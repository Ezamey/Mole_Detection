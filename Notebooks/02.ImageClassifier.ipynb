{
 "cells": [
  {
   "cell_type": "code",
   "execution_count": 1,
   "metadata": {
    "ExecuteTime": {
     "end_time": "2021-03-22T09:07:22.562030Z",
     "start_time": "2021-03-22T09:07:18.313933Z"
    }
   },
   "outputs": [],
   "source": [
    "import cv2\n",
    "import os\n",
    "import shutil\n",
    "import pandas as pd\n",
    "import numpy as np\n",
    "\n",
    "from keras.preprocessing.image import img_to_array, load_img\n",
    "from matplotlib import pyplot as plt\n",
    "\n",
    "from datetime import datetime\n",
    "#from keras.preprocessing.image import ImageDataGenerator"
   ]
  },
  {
   "cell_type": "code",
   "execution_count": 2,
   "metadata": {
    "ExecuteTime": {
     "end_time": "2021-03-22T09:07:22.575777Z",
     "start_time": "2021-03-22T09:07:22.565285Z"
    }
   },
   "outputs": [],
   "source": [
    "start_time = datetime.now()"
   ]
  },
  {
   "cell_type": "code",
   "execution_count": 18,
   "metadata": {
    "ExecuteTime": {
     "end_time": "2021-03-22T09:23:31.022260Z",
     "start_time": "2021-03-22T09:23:30.988823Z"
    }
   },
   "outputs": [
    {
     "data": {
      "text/html": [
       "<div>\n",
       "<style scoped>\n",
       "    .dataframe tbody tr th:only-of-type {\n",
       "        vertical-align: middle;\n",
       "    }\n",
       "\n",
       "    .dataframe tbody tr th {\n",
       "        vertical-align: top;\n",
       "    }\n",
       "\n",
       "    .dataframe thead th {\n",
       "        text-align: right;\n",
       "    }\n",
       "</style>\n",
       "<table border=\"1\" class=\"dataframe\">\n",
       "  <thead>\n",
       "    <tr style=\"text-align: right;\">\n",
       "      <th></th>\n",
       "      <th>id</th>\n",
       "      <th>file_path</th>\n",
       "      <th>kat.Diagnose</th>\n",
       "      <th>maligne</th>\n",
       "    </tr>\n",
       "  </thead>\n",
       "  <tbody>\n",
       "    <tr>\n",
       "      <th>2622</th>\n",
       "      <td>F704</td>\n",
       "      <td>../data/Mole_Data/SET_F/F704.BMP</td>\n",
       "      <td>1</td>\n",
       "      <td>False</td>\n",
       "    </tr>\n",
       "    <tr>\n",
       "      <th>2246</th>\n",
       "      <td>F318</td>\n",
       "      <td>../data/Mole_Data/SET_F/F318.BMP</td>\n",
       "      <td>2</td>\n",
       "      <td>True</td>\n",
       "    </tr>\n",
       "    <tr>\n",
       "      <th>204</th>\n",
       "      <td>D215</td>\n",
       "      <td>../data/Mole_Data/SET_D/D215.BMP</td>\n",
       "      <td>1</td>\n",
       "      <td>False</td>\n",
       "    </tr>\n",
       "    <tr>\n",
       "      <th>1062</th>\n",
       "      <td>E86</td>\n",
       "      <td>../data/Mole_Data/SET_E/E86.BMP</td>\n",
       "      <td>1</td>\n",
       "      <td>False</td>\n",
       "    </tr>\n",
       "    <tr>\n",
       "      <th>1556</th>\n",
       "      <td>E607</td>\n",
       "      <td>../data/Mole_Data/SET_E/E607.BMP</td>\n",
       "      <td>2</td>\n",
       "      <td>True</td>\n",
       "    </tr>\n",
       "  </tbody>\n",
       "</table>\n",
       "</div>"
      ],
      "text/plain": [
       "        id                         file_path  kat.Diagnose  maligne\n",
       "2622  F704  ../data/Mole_Data/SET_F/F704.BMP             1    False\n",
       "2246  F318  ../data/Mole_Data/SET_F/F318.BMP             2     True\n",
       "204   D215  ../data/Mole_Data/SET_D/D215.BMP             1    False\n",
       "1062   E86   ../data/Mole_Data/SET_E/E86.BMP             1    False\n",
       "1556  E607  ../data/Mole_Data/SET_E/E607.BMP             2     True"
      ]
     },
     "execution_count": 18,
     "metadata": {},
     "output_type": "execute_result"
    }
   ],
   "source": [
    "df_full = pd.read_csv(\"../data/preprocessed/df_mole_merged.csv\")\n",
    "df_full.sample(5)"
   ]
  },
  {
   "cell_type": "code",
   "execution_count": 4,
   "metadata": {
    "ExecuteTime": {
     "end_time": "2021-03-21T13:26:37.440970Z",
     "start_time": "2021-03-21T13:26:37.433352Z"
    }
   },
   "outputs": [],
   "source": [
    "#df_full.shape"
   ]
  },
  {
   "cell_type": "markdown",
   "metadata": {},
   "source": [
    "## Image classification"
   ]
  },
  {
   "cell_type": "code",
   "execution_count": 5,
   "metadata": {
    "ExecuteTime": {
     "end_time": "2021-03-21T13:26:37.455867Z",
     "start_time": "2021-03-21T13:26:37.446001Z"
    }
   },
   "outputs": [],
   "source": [
    "DESTINATION_PATH = \"../data/preprocessed/img/\""
   ]
  },
  {
   "cell_type": "markdown",
   "metadata": {},
   "source": [
    "Copy image to the destination path\n",
    "Structure : <br/>\n",
    "`\n",
    "DESTINATION_PATH\n",
    "        +--- Train\n",
    "        |   +-- Begnin\n",
    "        |   +-- Maligne\n",
    "        +--- Validation\n",
    "        |   +-- Begnin\n",
    "        |   +-- Maligne\n",
    "        +--- Test\n",
    "            +-- Begnin\n",
    "            +-- Maligne`"
   ]
  },
  {
   "cell_type": "code",
   "execution_count": 6,
   "metadata": {
    "ExecuteTime": {
     "end_time": "2021-03-21T13:26:37.477459Z",
     "start_time": "2021-03-21T13:26:37.461330Z"
    }
   },
   "outputs": [],
   "source": [
    "def copy_images_to_directory(file_paths, destination, data_augmentation=False):\n",
    "    \"\"\"\n",
    "    This procedure copy all give file to a specific destination.\n",
    "    If the destination path doesn't exist. This one will be\n",
    "    automatically created.\n",
    "    \n",
    "    The file are copied in a iteration.\n",
    "    If some files have the same name, the new file will override \n",
    "    the previous one.\n",
    "    \n",
    "    Parameters:\n",
    "    -----------\n",
    "    file_paths  : the iterable list of file paths to move to the destination\n",
    "    destination : a string representing the destination path \n",
    "    \"\"\"\n",
    "    \n",
    "    # Check if the destination exist\n",
    "    # or create it\n",
    "    if not os.path.exists(destination):\n",
    "        os.makedirs(destination)\n",
    "    \n",
    "    # Code duplication to avoid to check this condition\n",
    "    # for each item\n",
    "    if not data_augmentation:\n",
    "        # Only copy the files to the new destination\n",
    "        for file_path in file_paths:\n",
    "            file_name = file_path.split(\"/\")[-1]\n",
    "            shutil.copy(file_path, f\"{destination}{file_name}\")\n",
    "    else:\n",
    "        # Create 3 new versions of the original image\n",
    "        # One horizontal flip\n",
    "        # Two vertical flip (original , horizontal_flip\n",
    "        # and copy them to the destination\n",
    "        for file_path in file_paths:\n",
    "            file_name = file_path.split(\"/\")[-1]\n",
    "            fname, ext = os.path.splitext(file_name) \n",
    "            new_path = f\"{destination}{fname}_A{ext}\"\n",
    "            shutil.copy(file_path, new_path)\n",
    "            \n",
    "            # Data Augmentation\n",
    "            img = cv2.imread(new_path)\n",
    "            # Horizontal flip\n",
    "            flippedimage = cv2.flip(img, 1)\n",
    "            cv2.imwrite(f\"{destination}{fname}_B{ext}\", flippedimage)\n",
    "            # Vertical flip\n",
    "            vflippedimage = cv2.flip(img, 0)\n",
    "            cv2.imwrite(f\"{destination}{fname}_C{ext}\", vflippedimage)\n",
    "            vflippedimage = cv2.flip(flippedimage, 0)\n",
    "            cv2.imwrite(f\"{destination}{fname}_D{ext}\", vflippedimage)"
   ]
  },
  {
   "cell_type": "markdown",
   "metadata": {},
   "source": [
    "#### Case 1 : Begnin case"
   ]
  },
  {
   "cell_type": "code",
   "execution_count": 7,
   "metadata": {
    "ExecuteTime": {
     "end_time": "2021-03-21T13:26:37.522529Z",
     "start_time": "2021-03-21T13:26:37.486287Z"
    }
   },
   "outputs": [],
   "source": [
    "filter_begnin = df_full[\"maligne\"] == False"
   ]
  },
  {
   "cell_type": "code",
   "execution_count": 8,
   "metadata": {
    "ExecuteTime": {
     "end_time": "2021-03-21T13:26:37.539649Z",
     "start_time": "2021-03-21T13:26:37.526279Z"
    }
   },
   "outputs": [],
   "source": [
    "dir_begnin = f\"{DESTINATION_PATH}Train/Begnin/\""
   ]
  },
  {
   "cell_type": "code",
   "execution_count": 9,
   "metadata": {
    "ExecuteTime": {
     "end_time": "2021-03-21T13:26:50.183868Z",
     "start_time": "2021-03-21T13:26:37.546847Z"
    }
   },
   "outputs": [],
   "source": [
    "copy_images_to_directory(df_full[filter_begnin][\"file_path\"], dir_begnin)"
   ]
  },
  {
   "cell_type": "markdown",
   "metadata": {},
   "source": [
    "#### Case 2 : Maligne case\n",
    "Need data augmentation\n",
    "All picture will become 4 pictures :\n",
    "- 1 : Original\n",
    "- 2 : Horizontal flip of 1\n",
    "- 3 : Vertical flip of 1\n",
    "- 4 : Vertical flip of 2"
   ]
  },
  {
   "cell_type": "code",
   "execution_count": 10,
   "metadata": {
    "ExecuteTime": {
     "end_time": "2021-03-21T13:26:50.195227Z",
     "start_time": "2021-03-21T13:26:50.186660Z"
    }
   },
   "outputs": [],
   "source": [
    "dir_maligne = f\"{DESTINATION_PATH}Train/Maligne/\""
   ]
  },
  {
   "cell_type": "code",
   "execution_count": 11,
   "metadata": {
    "ExecuteTime": {
     "end_time": "2021-03-21T13:27:03.124482Z",
     "start_time": "2021-03-21T13:26:50.199436Z"
    }
   },
   "outputs": [],
   "source": [
    "copy_images_to_directory(df_full[~filter_begnin][\"file_path\"], dir_maligne, data_augmentation=True)"
   ]
  },
  {
   "cell_type": "markdown",
   "metadata": {},
   "source": [
    "### Split new image dataset to \"Train/Test/Validation\""
   ]
  },
  {
   "cell_type": "code",
   "execution_count": 12,
   "metadata": {
    "ExecuteTime": {
     "end_time": "2021-03-21T13:27:03.146686Z",
     "start_time": "2021-03-21T13:27:03.127064Z"
    }
   },
   "outputs": [],
   "source": [
    "# Read the train directory with all images\n",
    "_, _, X_begnin = next(os.walk(dir_begnin))\n",
    "_, _, X_maligne = next(os.walk(dir_maligne))"
   ]
  },
  {
   "cell_type": "code",
   "execution_count": 13,
   "metadata": {
    "ExecuteTime": {
     "end_time": "2021-03-21T13:27:03.157644Z",
     "start_time": "2021-03-21T13:27:03.149347Z"
    }
   },
   "outputs": [
    {
     "name": "stdout",
     "output_type": "stream",
     "text": [
      "2271\n",
      "D876.BMP\n",
      "2516\n",
      "D855_A.BMP\n"
     ]
    }
   ],
   "source": [
    "print(len(X_begnin))\n",
    "print(X_begnin[0])\n",
    "print(len(X_maligne))\n",
    "print(X_maligne[0])"
   ]
  },
  {
   "cell_type": "code",
   "execution_count": 14,
   "metadata": {
    "ExecuteTime": {
     "end_time": "2021-03-21T13:27:03.186645Z",
     "start_time": "2021-03-21T13:27:03.162629Z"
    }
   },
   "outputs": [],
   "source": [
    "def split_directory_train_test_validation(\n",
    "    source_dir,\n",
    "    test_dir, \n",
    "    validation_dir, \n",
    "    test_split=.2,\n",
    "    validation_split=.2,\n",
    "    shuffle=True\n",
    "):\n",
    "    # list all files in the source\n",
    "    _, _, X = next(os.walk(source_dir))\n",
    "    \n",
    "    # convert the file list to np array\n",
    "    X = np.array(X)\n",
    "    \n",
    "    # compute the test and validation size\n",
    "    cnt_items = X.shape[0]\n",
    "    test_size = int(round(cnt_items*test_split, 0))\n",
    "    val_size = int(round(cnt_items*validation_split, 0))\n",
    "    \n",
    "    if shuffle:\n",
    "        s = np.arange(cnt_items)\n",
    "        np.random.shuffle(s)\n",
    "        \n",
    "        X_test = X[s[0:test_size]]\n",
    "        X_val  = X[s[test_size:test_size+val_size]]\n",
    "    else:\n",
    "        X_test = X[0:test_size]\n",
    "        X_val  = X[test_size:test_size+val_size]\n",
    "    \n",
    "    # Copy the selected files to\n",
    "    # the destination folders\n",
    "    if X_test.shape[0] :\n",
    "        # Create the dest if not exist\n",
    "        if not os.path.exists(test_dir):\n",
    "            os.makedirs(test_dir)\n",
    "        # Move the files\n",
    "        for f in X_test:\n",
    "            shutil.move(source_dir+f, test_dir+f)\n",
    "    if X_val.shape[0] :\n",
    "        # Create the dest if not exist\n",
    "        if not os.path.exists(validation_dir):\n",
    "            os.makedirs(validation_dir)\n",
    "        # Move the files\n",
    "        for f in X_val:\n",
    "            shutil.move(source_dir+f, validation_dir+f)"
   ]
  },
  {
   "cell_type": "code",
   "execution_count": 15,
   "metadata": {
    "ExecuteTime": {
     "end_time": "2021-03-21T13:27:03.567044Z",
     "start_time": "2021-03-21T13:27:03.192579Z"
    }
   },
   "outputs": [],
   "source": [
    "split_directory_train_test_validation(dir_begnin, \n",
    "                                      f\"{DESTINATION_PATH}Test/Begnin/\", \n",
    "                                      f\"{DESTINATION_PATH}Validation/Begnin/\")"
   ]
  },
  {
   "cell_type": "code",
   "execution_count": 16,
   "metadata": {
    "ExecuteTime": {
     "end_time": "2021-03-21T13:27:04.024108Z",
     "start_time": "2021-03-21T13:27:03.599071Z"
    }
   },
   "outputs": [],
   "source": [
    "split_directory_train_test_validation(dir_maligne, \n",
    "                                      f\"{DESTINATION_PATH}Test/Maligne/\", \n",
    "                                      f\"{DESTINATION_PATH}Validation/Maligne/\")"
   ]
  },
  {
   "cell_type": "code",
   "execution_count": 17,
   "metadata": {
    "ExecuteTime": {
     "end_time": "2021-03-21T13:27:04.048905Z",
     "start_time": "2021-03-21T13:27:04.030547Z"
    }
   },
   "outputs": [],
   "source": [
    "end_time = datetime.now()\n"
   ]
  },
  {
   "cell_type": "code",
   "execution_count": 18,
   "metadata": {
    "ExecuteTime": {
     "end_time": "2021-03-21T13:27:04.101222Z",
     "start_time": "2021-03-21T13:27:04.057341Z"
    }
   },
   "outputs": [
    {
     "name": "stdout",
     "output_type": "stream",
     "text": [
      "Image classification done in 0:00:26.643306\n"
     ]
    }
   ],
   "source": [
    "duration = end_time - start_time\n",
    "\n",
    "print(\"Image classification done in\", duration)"
   ]
  },
  {
   "cell_type": "markdown",
   "metadata": {},
   "source": [
    "### Sample of data augmentation"
   ]
  },
  {
   "cell_type": "code",
   "execution_count": 20,
   "metadata": {
    "ExecuteTime": {
     "end_time": "2021-03-22T09:23:40.529601Z",
     "start_time": "2021-03-22T09:23:40.497931Z"
    }
   },
   "outputs": [
    {
     "name": "stdout",
     "output_type": "stream",
     "text": [
      "<class 'numpy.ndarray'>\n"
     ]
    }
   ],
   "source": [
    "img = cv2.imread(df_full[\"file_path\"][0])\n",
    "print(type(img))\n",
    "# Horizontal flip\n",
    "flippedimage = cv2.flip(img, 1)\n",
    "# Vertical flip\n",
    "vflippedimage = cv2.flip(img, 0)\n",
    "vflippedimage2 = cv2.flip(flippedimage, 0)"
   ]
  },
  {
   "cell_type": "code",
   "execution_count": 33,
   "metadata": {
    "ExecuteTime": {
     "end_time": "2021-03-22T09:31:53.027865Z",
     "start_time": "2021-03-22T09:31:52.358583Z"
    }
   },
   "outputs": [
    {
     "data": {
      "text/plain": [
       "<Figure size 720x720 with 0 Axes>"
      ]
     },
     "metadata": {},
     "output_type": "display_data"
    },
    {
     "data": {
      "image/png": "[encoded data removed]",
      "text/plain": [
       "<Figure size 432x288 with 4 Axes>"
      ]
     },
     "metadata": {
      "needs_background": "light"
     },
     "output_type": "display_data"
    }
   ],
   "source": [
    "fig=plt.figure(figsize=(10, 10))\n",
    "ncols = 2\n",
    "nrows = 2\n",
    "\n",
    "\n",
    "fig, axs = plt.subplots(ncols=ncols, nrows=nrows)\n",
    "axs[0, 0].imshow(cv2.cvtColor(img, cv2.COLOR_BGR2RGB))\n",
    "axs[0, 0].set_title('Original')\n",
    "axs[0, 1].imshow(cv2.cvtColor(flippedimage, cv2.COLOR_BGR2RGB))\n",
    "axs[0, 1].set_title('Horizontal flip')\n",
    "axs[1, 0].imshow(cv2.cvtColor(vflippedimage, cv2.COLOR_BGR2RGB))\n",
    "axs[1, 0].set_title('Vertical flip 1')\n",
    "axs[1, 1].imshow(cv2.cvtColor(vflippedimage2, cv2.COLOR_BGR2RGB))\n",
    "axs[1, 1].set_title('Vertical flip 2')\n",
    "fig.tight_layout(pad=3)\n",
    "plt.show()"
   ]
  }
 ],
 "metadata": {
  "kernelspec": {
   "display_name": "base",
   "language": "python",
   "name": "base"
  },
  "language_info": {
   "codemirror_mode": {
    "name": "ipython",
    "version": 3
   },
   "file_extension": ".py",
   "mimetype": "text/x-python",
   "name": "python",
   "nbconvert_exporter": "python",
   "pygments_lexer": "ipython3",
   "version": "3.8.5"
  }
 },
 "nbformat": 4,
 "nbformat_minor": 4
}
