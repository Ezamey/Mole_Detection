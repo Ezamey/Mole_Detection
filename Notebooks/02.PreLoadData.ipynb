{
 "cells": [
  {
   "cell_type": "code",
   "execution_count": null,
   "metadata": {
    "ExecuteTime": {
     "end_time": "2021-03-19T15:28:05.760268Z",
     "start_time": "2021-03-19T15:28:00.592518Z"
    }
   },
   "outputs": [],
   "source": [
    "import cv2\n",
    "import pandas as pd\n",
    "import numpy as np\n",
    "\n",
    "from keras.preprocessing.image import img_to_array, load_img\n",
    "from matplotlib import pyplot as plt\n",
    "\n",
    "#from keras.preprocessing.image import ImageDataGenerator"
   ]
  },
  {
   "cell_type": "code",
   "execution_count": 4,
   "metadata": {
    "ExecuteTime": {
     "end_time": "2021-03-19T15:28:05.807893Z",
     "start_time": "2021-03-19T15:28:05.763098Z"
    }
   },
   "outputs": [
    {
     "output_type": "execute_result",
     "data": {
      "text/plain": [
       "        id                         file_path  kat.Diagnose  maligne\n",
       "2499  F575  ../data/Mole_Data/SET_F/F575.BMP             1    False\n",
       "1549  E600  ../data/Mole_Data/SET_E/E600.BMP             1    False\n",
       "794   D814  ../data/Mole_Data/SET_D/D814.BMP             1    False\n",
       "2685  F770  ../data/Mole_Data/SET_F/F770.BMP             1    False\n",
       "2287  F359  ../data/Mole_Data/SET_F/F359.BMP             1    False"
      ],
      "text/html": "<div>\n<style scoped>\n    .dataframe tbody tr th:only-of-type {\n        vertical-align: middle;\n    }\n\n    .dataframe tbody tr th {\n        vertical-align: top;\n    }\n\n    .dataframe thead th {\n        text-align: right;\n    }\n</style>\n<table border=\"1\" class=\"dataframe\">\n  <thead>\n    <tr style=\"text-align: right;\">\n      <th></th>\n      <th>id</th>\n      <th>file_path</th>\n      <th>kat.Diagnose</th>\n      <th>maligne</th>\n    </tr>\n  </thead>\n  <tbody>\n    <tr>\n      <th>2499</th>\n      <td>F575</td>\n      <td>../data/Mole_Data/SET_F/F575.BMP</td>\n      <td>1</td>\n      <td>False</td>\n    </tr>\n    <tr>\n      <th>1549</th>\n      <td>E600</td>\n      <td>../data/Mole_Data/SET_E/E600.BMP</td>\n      <td>1</td>\n      <td>False</td>\n    </tr>\n    <tr>\n      <th>794</th>\n      <td>D814</td>\n      <td>../data/Mole_Data/SET_D/D814.BMP</td>\n      <td>1</td>\n      <td>False</td>\n    </tr>\n    <tr>\n      <th>2685</th>\n      <td>F770</td>\n      <td>../data/Mole_Data/SET_F/F770.BMP</td>\n      <td>1</td>\n      <td>False</td>\n    </tr>\n    <tr>\n      <th>2287</th>\n      <td>F359</td>\n      <td>../data/Mole_Data/SET_F/F359.BMP</td>\n      <td>1</td>\n      <td>False</td>\n    </tr>\n  </tbody>\n</table>\n</div>"
     },
     "metadata": {},
     "execution_count": 4
    }
   ],
   "source": [
    "df_full = pd.read_csv(\"../data/preprocessed/df_mole_merged.csv\")\n",
    "df_full.sample(5)"
   ]
  },
  {
   "cell_type": "code",
   "execution_count": 5,
   "metadata": {
    "ExecuteTime": {
     "end_time": "2021-03-19T15:28:05.822594Z",
     "start_time": "2021-03-19T15:28:05.812688Z"
    }
   },
   "outputs": [
    {
     "output_type": "execute_result",
     "data": {
      "text/plain": [
       "(2900, 4)"
      ]
     },
     "metadata": {},
     "execution_count": 5
    }
   ],
   "source": [
    "df_full.shape"
   ]
  },
  {
   "cell_type": "markdown",
   "metadata": {},
   "source": [
    "## Split data by diagnostic"
   ]
  },
  {
   "cell_type": "code",
   "execution_count": 6,
   "metadata": {
    "ExecuteTime": {
     "end_time": "2021-03-19T15:28:05.878418Z",
     "start_time": "2021-03-19T15:28:05.829950Z"
    }
   },
   "outputs": [
    {
     "output_type": "stream",
     "name": "stdout",
     "text": [
      "(2271, 4)\n(579, 4)\n(50, 4)\n"
     ]
    }
   ],
   "source": [
    "# filter_maligne = df_full[\"maligne\"] == True\n",
    "\n",
    "df_kat1 = df_full[df_full[\"kat.Diagnose\"]==1]\n",
    "df_kat2 = df_full[df_full[\"kat.Diagnose\"]==2]\n",
    "df_kat3 = df_full[df_full[\"kat.Diagnose\"]==3]\n",
    "\n",
    "print(df_kat1.shape)\n",
    "print(df_kat2.shape)\n",
    "print(df_kat3.shape)"
   ]
  },
  {
   "cell_type": "code",
   "execution_count": 7,
   "metadata": {
    "ExecuteTime": {
     "end_time": "2021-03-19T15:28:05.901136Z",
     "start_time": "2021-03-19T15:28:05.887689Z"
    }
   },
   "outputs": [],
   "source": [
    "\n",
    "\n",
    "def convert_image_to_array(files):\n",
    "    images_as_array=[]\n",
    "    for file in files:\n",
    "        # Convert to Numpy Array\n",
    "        images_as_array.append(img_to_array(load_img(file))/255)\n",
    "    return np.array(images_as_array).astype(\"float32\")\n"
   ]
  },
  {
   "cell_type": "markdown",
   "metadata": {},
   "source": [
    "## Manage unbalanced data\n",
    "We will increase the number of maligne record by using the ImageDataGenerator"
   ]
  },
  {
   "cell_type": "code",
   "execution_count": 8,
   "metadata": {
    "ExecuteTime": {
     "end_time": "2021-03-19T15:29:44.495183Z",
     "start_time": "2021-03-19T15:28:05.914743Z"
    }
   },
   "outputs": [
    {
     "output_type": "error",
     "ename": "MemoryError",
     "evalue": "Unable to allocate 6.21 GiB for an array with shape (2271, 387, 632, 3) and data type float32",
     "traceback": [
      "\u001b[1;31m---------------------------------------------------------------------------\u001b[0m",
      "\u001b[1;31mMemoryError\u001b[0m                               Traceback (most recent call last)",
      "\u001b[1;32m<ipython-input-8-ac9247d2695c>\u001b[0m in \u001b[0;36m<module>\u001b[1;34m\u001b[0m\n\u001b[0;32m      1\u001b[0m \u001b[1;31m# Load pictures in numpy array\u001b[0m\u001b[1;33m\u001b[0m\u001b[1;33m\u001b[0m\u001b[1;33m\u001b[0m\u001b[0m\n\u001b[1;32m----> 2\u001b[1;33m \u001b[0mimg_kat1\u001b[0m \u001b[1;33m=\u001b[0m \u001b[0mconvert_image_to_array\u001b[0m\u001b[1;33m(\u001b[0m\u001b[0mdf_kat1\u001b[0m\u001b[1;33m[\u001b[0m\u001b[1;34m\"file_path\"\u001b[0m\u001b[1;33m]\u001b[0m\u001b[1;33m)\u001b[0m\u001b[1;33m\u001b[0m\u001b[1;33m\u001b[0m\u001b[0m\n\u001b[0m\u001b[0;32m      3\u001b[0m \u001b[0mprint\u001b[0m\u001b[1;33m(\u001b[0m\u001b[0mimg_kat1\u001b[0m\u001b[1;33m.\u001b[0m\u001b[0mshape\u001b[0m\u001b[1;33m)\u001b[0m\u001b[1;33m\u001b[0m\u001b[1;33m\u001b[0m\u001b[0m\n\u001b[0;32m      4\u001b[0m \u001b[1;33m\u001b[0m\u001b[0m\n\u001b[0;32m      5\u001b[0m \u001b[0mimg_kat2\u001b[0m \u001b[1;33m=\u001b[0m \u001b[0mconvert_image_to_array\u001b[0m\u001b[1;33m(\u001b[0m\u001b[0mdf_kat2\u001b[0m\u001b[1;33m[\u001b[0m\u001b[1;34m\"file_path\"\u001b[0m\u001b[1;33m]\u001b[0m\u001b[1;33m)\u001b[0m\u001b[1;33m\u001b[0m\u001b[1;33m\u001b[0m\u001b[0m\n",
      "\u001b[1;32m<ipython-input-7-90825c0fec3a>\u001b[0m in \u001b[0;36mconvert_image_to_array\u001b[1;34m(files)\u001b[0m\n\u001b[0;32m      4\u001b[0m         \u001b[1;31m# Convert to Numpy Array\u001b[0m\u001b[1;33m\u001b[0m\u001b[1;33m\u001b[0m\u001b[1;33m\u001b[0m\u001b[0m\n\u001b[0;32m      5\u001b[0m         \u001b[0mimages_as_array\u001b[0m\u001b[1;33m.\u001b[0m\u001b[0mappend\u001b[0m\u001b[1;33m(\u001b[0m\u001b[0mimg_to_array\u001b[0m\u001b[1;33m(\u001b[0m\u001b[0mload_img\u001b[0m\u001b[1;33m(\u001b[0m\u001b[0mfile\u001b[0m\u001b[1;33m)\u001b[0m\u001b[1;33m)\u001b[0m\u001b[1;33m/\u001b[0m\u001b[1;36m255\u001b[0m\u001b[1;33m)\u001b[0m\u001b[1;33m\u001b[0m\u001b[1;33m\u001b[0m\u001b[0m\n\u001b[1;32m----> 6\u001b[1;33m     \u001b[1;32mreturn\u001b[0m \u001b[0mnp\u001b[0m\u001b[1;33m.\u001b[0m\u001b[0marray\u001b[0m\u001b[1;33m(\u001b[0m\u001b[0mimages_as_array\u001b[0m\u001b[1;33m)\u001b[0m\u001b[1;33m.\u001b[0m\u001b[0mastype\u001b[0m\u001b[1;33m(\u001b[0m\u001b[1;34m\"float32\"\u001b[0m\u001b[1;33m)\u001b[0m\u001b[1;33m\u001b[0m\u001b[1;33m\u001b[0m\u001b[0m\n\u001b[0m",
      "\u001b[1;31mMemoryError\u001b[0m: Unable to allocate 6.21 GiB for an array with shape (2271, 387, 632, 3) and data type float32"
     ]
    }
   ],
   "source": [
    "# Load pictures in numpy array\n",
    "img_kat1 = convert_image_to_array(df_kat1[\"file_path\"])\n",
    "print(img_kat1.shape)\n",
    "\n",
    "img_kat2 = convert_image_to_array(df_kat2[\"file_path\"])\n",
    "print(img_kat2.shape)\n",
    "\n",
    "img_kat3 = convert_image_to_array(df_kat3[\"file_path\"])\n",
    "print(img_kat3.shape)\n",
    "print(type(img_kat3))"
   ]
  },
  {
   "cell_type": "code",
   "execution_count": 10,
   "metadata": {
    "ExecuteTime": {
     "end_time": "2021-03-19T15:30:44.036498Z",
     "start_time": "2021-03-19T15:29:44.525704Z"
    }
   },
   "outputs": [
    {
     "output_type": "error",
     "ename": "NameError",
     "evalue": "name 'img_kat3' is not defined",
     "traceback": [
      "\u001b[1;31m---------------------------------------------------------------------------\u001b[0m",
      "\u001b[1;31mNameError\u001b[0m                                 Traceback (most recent call last)",
      "\u001b[1;32m<ipython-input-10-6e43ca64ae16>\u001b[0m in \u001b[0;36m<module>\u001b[1;34m\u001b[0m\n\u001b[0;32m     15\u001b[0m \u001b[1;33m\u001b[0m\u001b[0m\n\u001b[0;32m     16\u001b[0m \u001b[1;33m\u001b[0m\u001b[0m\n\u001b[1;32m---> 17\u001b[1;33m \u001b[0mnew_img_kat3\u001b[0m \u001b[1;33m=\u001b[0m \u001b[0mgenerate_flipped_images\u001b[0m\u001b[1;33m(\u001b[0m\u001b[0mimg_kat3\u001b[0m\u001b[1;33m)\u001b[0m\u001b[1;33m\u001b[0m\u001b[1;33m\u001b[0m\u001b[0m\n\u001b[0m\u001b[0;32m     18\u001b[0m \u001b[0mprint\u001b[0m\u001b[1;33m(\u001b[0m\u001b[1;34m\"images kat3 generated\"\u001b[0m\u001b[1;33m)\u001b[0m\u001b[1;33m\u001b[0m\u001b[1;33m\u001b[0m\u001b[0m\n\u001b[0;32m     19\u001b[0m \u001b[0mnew_img_kat2\u001b[0m \u001b[1;33m=\u001b[0m \u001b[0mgenerate_flipped_images\u001b[0m\u001b[1;33m(\u001b[0m\u001b[0mimg_kat2\u001b[0m\u001b[1;33m)\u001b[0m\u001b[1;33m\u001b[0m\u001b[1;33m\u001b[0m\u001b[0m\n",
      "\u001b[1;31mNameError\u001b[0m: name 'img_kat3' is not defined"
     ]
    }
   ],
   "source": [
    "def generate_flipped_images(original_images):\n",
    "    _, s1, s2, s3 = original_images.shape\n",
    "    result = np.empty([0, s1, s2, s3], dtype=original_images.dtype)\n",
    "    \n",
    "    new_img_array=[]\n",
    "    for img in original_images:\n",
    "        # Horizontal flip\n",
    "        flippedimage = cv2.flip(img, 1)\n",
    "        new_img_array.append(flippedimage)\n",
    "        # Vertical flip\n",
    "        new_img_array.append(cv2.flip(img, 0))\n",
    "        new_img_array.append(cv2.flip(flippedimage, 0))\n",
    "    return np.array(new_img_array).astype(\"float32\")\n",
    "\n",
    "\n",
    "\n",
    "new_img_kat3 = generate_flipped_images(img_kat3)\n",
    "print(\"images kat3 generated\")\n",
    "new_img_kat2 = generate_flipped_images(img_kat2)\n",
    "print(\"images kat2 generated\")"
   ]
  },
  {
   "cell_type": "code",
   "execution_count": 8,
   "metadata": {
    "ExecuteTime": {
     "end_time": "2021-03-19T15:30:44.059448Z",
     "start_time": "2021-03-19T15:30:44.045856Z"
    }
   },
   "outputs": [
    {
     "name": "stdout",
     "output_type": "stream",
     "text": [
      "(1737, 387, 632, 3)\n",
      "(150, 387, 632, 3)\n"
     ]
    }
   ],
   "source": [
    "print(new_img_kat2.shape)\n",
    "print(new_img_kat3.shape)"
   ]
  },
  {
   "cell_type": "code",
   "execution_count": 9,
   "metadata": {
    "ExecuteTime": {
     "end_time": "2021-03-19T15:30:44.094919Z",
     "start_time": "2021-03-19T15:30:44.062618Z"
    }
   },
   "outputs": [],
   "source": [
    "target_kat1 = np.ones(img_kat1.shape[0]) # 111111\n",
    "target_kat2 = np.ones(img_kat2.shape[0] + new_img_kat2.shape[0]) * 2 # 22222\n",
    "target_kat3 = np.ones(img_kat3.shape[0] + new_img_kat3.shape[0]) * 3 # 33333"
   ]
  },
  {
   "cell_type": "code",
   "execution_count": 10,
   "metadata": {
    "ExecuteTime": {
     "end_time": "2021-03-19T15:30:44.106828Z",
     "start_time": "2021-03-19T15:30:44.101433Z"
    }
   },
   "outputs": [
    {
     "name": "stdout",
     "output_type": "stream",
     "text": [
      "(2271,)\n",
      "(2316,)\n",
      "(200,)\n"
     ]
    }
   ],
   "source": [
    "print(target_kat1.shape)\n",
    "print(target_kat2.shape)\n",
    "print(target_kat3.shape)"
   ]
  },
  {
   "cell_type": "code",
   "execution_count": 21,
   "metadata": {
    "ExecuteTime": {
     "end_time": "2021-03-19T16:06:48.357483Z",
     "start_time": "2021-03-19T16:03:28.900320Z"
    }
   },
   "outputs": [
    {
     "name": "stdout",
     "output_type": "stream",
     "text": [
      "(4787, 387, 632, 3)\n",
      "(4787,)\n"
     ]
    }
   ],
   "source": [
    "final_features = np.concatenate((img_kat1, img_kat2, new_img_kat2, img_kat3, new_img_kat3))\n",
    "final_target = np.concatenate((target_kat1, target_kat2, target_kat3))\n",
    "\n",
    "print(final_features.shape)\n",
    "print(final_target.shape)"
   ]
  },
  {
   "cell_type": "code",
   "execution_count": 22,
   "metadata": {
    "ExecuteTime": {
     "end_time": "2021-03-19T16:12:32.228741Z",
     "start_time": "2021-03-19T16:06:53.971796Z"
    }
   },
   "outputs": [],
   "source": [
    "np.save('./data/preprocessed/features.npy', final_features)\n",
    "np.save('./data/preprocessed/target.npy', final_target)"
   ]
  },
  {
   "cell_type": "code",
   "execution_count": null,
   "metadata": {},
   "outputs": [],
   "source": []
  }
 ],
 "metadata": {
  "kernelspec": {
   "name": "python3",
   "display_name": "Python 3.7.10 64-bit",
   "metadata": {
    "interpreter": {
     "hash": "f774a9317f8c9478287f3aa77710d9959114b97a9f467c5fb91a7e7bca35fa13"
    }
   }
  },
  "language_info": {
   "codemirror_mode": {
    "name": "ipython",
    "version": 3
   },
   "file_extension": ".py",
   "mimetype": "text/x-python",
   "name": "python",
   "nbconvert_exporter": "python",
   "pygments_lexer": "ipython3",
   "version": "3.7.10-final"
  }
 },
 "nbformat": 4,
 "nbformat_minor": 4
}