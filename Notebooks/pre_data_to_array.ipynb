{
 "metadata": {
  "language_info": {
   "codemirror_mode": {
    "name": "ipython",
    "version": 3
   },
   "file_extension": ".py",
   "mimetype": "text/x-python",
   "name": "python",
   "nbconvert_exporter": "python",
   "pygments_lexer": "ipython3",
   "version": "3.7.10-final"
  },
  "orig_nbformat": 2,
  "kernelspec": {
   "name": "python3",
   "display_name": "Python 3",
   "language": "python"
  }
 },
 "nbformat": 4,
 "nbformat_minor": 2,
 "cells": [
  {
   "source": [
    "Import of necessary packages"
   ],
   "cell_type": "markdown",
   "metadata": {}
  },
  {
   "source": [
    "import keras\n",
    "from keras.models import Sequential\n",
    "from keras.layers import Conv2D,MaxPooling2D\n",
    "from keras.layers import Activation, Dense, Flatten, Dropout\n",
    "from keras import layers, models\n",
    "from keras.preprocessing.image import ImageDataGenerator\n",
    "from keras.callbacks import ModelCheckpoint\n",
    "from keras import backend as K\n",
    "from keras.utils import np_utils\n",
    "from keras.applications import imagenet_utils\n",
    "from keras.preprocessing import image\n",
    "from keras.models import Model\n",
    "from keras.applications import MobileNet\n",
    "import numpy as np\n",
    "import pandas as pd\n",
    "from sklearn.datasets import load_files\n",
    "from sklearn.model_selection import train_test_split\n",
    "from keras.preprocessing.image import array_to_img, img_to_array, load_img\n",
    "import cv2\n"
   ],
   "cell_type": "code",
   "metadata": {},
   "execution_count": 1,
   "outputs": []
  },
  {
   "cell_type": "code",
   "execution_count": 2,
   "metadata": {},
   "outputs": [
    {
     "output_type": "execute_result",
     "data": {
      "text/plain": [
       "         id                         file_path  kat.Diagnose  maligne\n",
       "0        D1     ./data/Mole_Data/SET_D/D1.BMP             1     True\n",
       "1        D2     ./data/Mole_Data/SET_D/D2.BMP             1     True\n",
       "2        D3     ./data/Mole_Data/SET_D/D3.BMP             1     True\n",
       "3        D4     ./data/Mole_Data/SET_D/D4.BMP             1     True\n",
       "4        D5     ./data/Mole_Data/SET_D/D5.BMP             1     True\n",
       "...     ...                               ...           ...      ...\n",
       "2895   F996   ./data/Mole_Data/SET_F/F996.BMP             1     True\n",
       "2896   F997   ./data/Mole_Data/SET_F/F997.BMP             1     True\n",
       "2897   F998   ./data/Mole_Data/SET_F/F998.BMP             1     True\n",
       "2898   F999   ./data/Mole_Data/SET_F/F999.BMP             1     True\n",
       "2899  F1000  ./data/Mole_Data/SET_F/F1000.BMP             1     True\n",
       "\n",
       "[2900 rows x 4 columns]"
      ],
      "text/html": "<div>\n<style scoped>\n    .dataframe tbody tr th:only-of-type {\n        vertical-align: middle;\n    }\n\n    .dataframe tbody tr th {\n        vertical-align: top;\n    }\n\n    .dataframe thead th {\n        text-align: right;\n    }\n</style>\n<table border=\"1\" class=\"dataframe\">\n  <thead>\n    <tr style=\"text-align: right;\">\n      <th></th>\n      <th>id</th>\n      <th>file_path</th>\n      <th>kat.Diagnose</th>\n      <th>maligne</th>\n    </tr>\n  </thead>\n  <tbody>\n    <tr>\n      <th>0</th>\n      <td>D1</td>\n      <td>./data/Mole_Data/SET_D/D1.BMP</td>\n      <td>1</td>\n      <td>True</td>\n    </tr>\n    <tr>\n      <th>1</th>\n      <td>D2</td>\n      <td>./data/Mole_Data/SET_D/D2.BMP</td>\n      <td>1</td>\n      <td>True</td>\n    </tr>\n    <tr>\n      <th>2</th>\n      <td>D3</td>\n      <td>./data/Mole_Data/SET_D/D3.BMP</td>\n      <td>1</td>\n      <td>True</td>\n    </tr>\n    <tr>\n      <th>3</th>\n      <td>D4</td>\n      <td>./data/Mole_Data/SET_D/D4.BMP</td>\n      <td>1</td>\n      <td>True</td>\n    </tr>\n    <tr>\n      <th>4</th>\n      <td>D5</td>\n      <td>./data/Mole_Data/SET_D/D5.BMP</td>\n      <td>1</td>\n      <td>True</td>\n    </tr>\n    <tr>\n      <th>...</th>\n      <td>...</td>\n      <td>...</td>\n      <td>...</td>\n      <td>...</td>\n    </tr>\n    <tr>\n      <th>2895</th>\n      <td>F996</td>\n      <td>./data/Mole_Data/SET_F/F996.BMP</td>\n      <td>1</td>\n      <td>True</td>\n    </tr>\n    <tr>\n      <th>2896</th>\n      <td>F997</td>\n      <td>./data/Mole_Data/SET_F/F997.BMP</td>\n      <td>1</td>\n      <td>True</td>\n    </tr>\n    <tr>\n      <th>2897</th>\n      <td>F998</td>\n      <td>./data/Mole_Data/SET_F/F998.BMP</td>\n      <td>1</td>\n      <td>True</td>\n    </tr>\n    <tr>\n      <th>2898</th>\n      <td>F999</td>\n      <td>./data/Mole_Data/SET_F/F999.BMP</td>\n      <td>1</td>\n      <td>True</td>\n    </tr>\n    <tr>\n      <th>2899</th>\n      <td>F1000</td>\n      <td>./data/Mole_Data/SET_F/F1000.BMP</td>\n      <td>1</td>\n      <td>True</td>\n    </tr>\n  </tbody>\n</table>\n<p>2900 rows × 4 columns</p>\n</div>"
     },
     "metadata": {},
     "execution_count": 2
    }
   ],
   "source": [
    "df = pd.read_csv('../data/preprocessed/df_mole_merged.csv')\n",
    "X = df.drop('kat.Diagnose', axis = 1).values\n",
    "y = df['kat.Diagnose'].values\n",
    "df"
   ]
  },
  {
   "cell_type": "code",
   "execution_count": 3,
   "metadata": {},
   "outputs": [
    {
     "output_type": "execute_result",
     "data": {
      "text/plain": [
       "array([1, 2, 3], dtype=int64)"
      ]
     },
     "metadata": {},
     "execution_count": 3
    }
   ],
   "source": [
    "labels = df['kat.Diagnose'].unique()\n",
    "labels"
   ]
  },
  {
   "cell_type": "code",
   "execution_count": null,
   "metadata": {},
   "outputs": [],
   "source": [
    "img = X['file_path']"
   ]
  },
  {
   "cell_type": "code",
   "execution_count": 4,
   "metadata": {},
   "outputs": [
    {
     "output_type": "stream",
     "name": "stdout",
     "text": [
      "X set shape :  (2900, 387, 632, 3)\n1st training image shape  (387, 632, 3)\n"
     ]
    }
   ],
   "source": [
    "def dataset_builder(files):\n",
    "    images_as_array=[]\n",
    "    for file in files:\n",
    "        # Convert to Numpy Array\n",
    "        file = '.'+ file\n",
    "        images_as_array.append(img_to_array(load_img(file)))\n",
    "    return images_as_array\n",
    "\n",
    "X = np.array(dataset_builder(df['file_path']))\n",
    "print('X set shape : ',X.shape)\n",
    "print('1st training image shape ',X[0].shape)"
   ]
  },
  {
   "cell_type": "code",
   "execution_count": 5,
   "metadata": {},
   "outputs": [],
   "source": [
    "X = X.astype('float32')/255"
   ]
  },
  {
   "cell_type": "code",
   "execution_count": 6,
   "metadata": {},
   "outputs": [
    {
     "output_type": "execute_result",
     "data": {
      "text/plain": [
       "dtype('float32')"
      ]
     },
     "metadata": {},
     "execution_count": 6
    }
   ],
   "source": [
    "X.dtype"
   ]
  },
  {
   "cell_type": "code",
   "execution_count": 8,
   "metadata": {},
   "outputs": [],
   "source": [
    "from numpy import save\n",
    "save('../data/Mole_Data/X_data.npy',X)"
   ]
  }
 ]
}