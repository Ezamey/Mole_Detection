{
 "cells": [
  {
   "cell_type": "code",
   "execution_count": 9,
   "metadata": {
    "ExecuteTime": {
     "end_time": "2021-03-22T10:42:31.219027Z",
     "start_time": "2021-03-22T10:42:30.858004Z"
    }
   },
   "outputs": [],
   "source": [
    "import tensorflow as tf\n",
    "import numpy as np\n",
    "from tensorflow import keras\n",
    "from tensorflow.keras import datasets\n",
    "from keras.models import Sequential\n",
    "from keras.layers import Conv2D,MaxPooling2D,Dense,Flatten,Dropout\n",
    "from keras.layers.normalization import BatchNormalization\n",
    "from tensorflow.keras.callbacks import ReduceLROnPlateau\n",
    "from keras.regularizers import l2\n",
    "from keras import optimizers\n",
    "\n",
    "from tensorflow.keras.callbacks import Callback\n",
    "\n",
    "#!pip install -U efficientnet\n",
    "from keras import layers\n",
    "import efficientnet.keras as efn\n",
    "from keras import regularizers "
   ]
  },
  {
   "cell_type": "code",
   "execution_count": 30,
   "metadata": {
    "ExecuteTime": {
     "end_time": "2021-03-22T14:43:25.292190Z",
     "start_time": "2021-03-22T14:43:25.285877Z"
    }
   },
   "outputs": [],
   "source": [
    "from sklearn.metrics import confusion_matrix\n",
    "from sklearn.metrics import classification_report"
   ]
  },
  {
   "cell_type": "code",
   "execution_count": 2,
   "metadata": {
    "ExecuteTime": {
     "end_time": "2021-03-22T10:41:29.159679Z",
     "start_time": "2021-03-22T10:41:29.156286Z"
    }
   },
   "outputs": [],
   "source": [
    "from tensorflow.keras.preprocessing import image_dataset_from_directory\n",
    "from tensorflow.keras.applications import Xception\n",
    "\n",
    "\n",
    "import seaborn as sn\n",
    "import matplotlib.pyplot as plt"
   ]
  },
  {
   "cell_type": "code",
   "execution_count": 38,
   "metadata": {
    "ExecuteTime": {
     "end_time": "2021-03-22T14:44:41.946669Z",
     "start_time": "2021-03-22T14:44:41.939301Z"
    }
   },
   "outputs": [],
   "source": [
    "# Some constant\n",
    "BATCH_SIZE = 32\n",
    "IMG_SIZE = 224\n",
    "LABEL_MODE = \"categorical\"\n",
    "MODEL_NAME = \"efficientnet_b0_v1\""
   ]
  },
  {
   "cell_type": "code",
   "execution_count": 4,
   "metadata": {
    "ExecuteTime": {
     "end_time": "2021-03-22T10:41:34.131450Z",
     "start_time": "2021-03-22T10:41:34.123839Z"
    }
   },
   "outputs": [],
   "source": [
    "def process_normalize(image, label):\n",
    "    #print(\"call process_normalize\")\n",
    "    image = tf.cast(image/255., tf.float32)\n",
    "    # Transformation needed here\n",
    "    return image, label"
   ]
  },
  {
   "cell_type": "code",
   "execution_count": 5,
   "metadata": {
    "ExecuteTime": {
     "end_time": "2021-03-22T10:41:36.088495Z",
     "start_time": "2021-03-22T10:41:36.080959Z"
    }
   },
   "outputs": [],
   "source": [
    "def load_image_dataset_from_directory(directory):\n",
    "    ds = image_dataset_from_directory(directory,\n",
    "                                      batch_size=BATCH_SIZE,\n",
    "                                      image_size=(IMG_SIZE, IMG_SIZE),\n",
    "                                      label_mode=LABEL_MODE)\n",
    "    #print(ds.class_names)\n",
    "    return ds.prefetch(int(BATCH_SIZE/2)).map(process_normalize), ds.class_names"
   ]
  },
  {
   "cell_type": "code",
   "execution_count": 7,
   "metadata": {
    "ExecuteTime": {
     "end_time": "2021-03-22T10:41:43.932311Z",
     "start_time": "2021-03-22T10:41:43.372117Z"
    }
   },
   "outputs": [
    {
     "name": "stdout",
     "output_type": "stream",
     "text": [
      "Found 2873 files belonging to 2 classes.\n",
      "Found 957 files belonging to 2 classes.\n",
      "Found 957 files belonging to 2 classes.\n"
     ]
    },
    {
     "data": {
      "text/plain": [
       "['Begnin', 'Maligne']"
      ]
     },
     "execution_count": 7,
     "metadata": {},
     "output_type": "execute_result"
    }
   ],
   "source": [
    "train_ds, labels = load_image_dataset_from_directory(\"../data/preprocessed/img/Train/\")\n",
    "test_ds, _ = load_image_dataset_from_directory(\"../data/preprocessed/img/Test/\")\n",
    "val_ds, _ = load_image_dataset_from_directory(\"../data/preprocessed/img/Validation/\")\n",
    "\n",
    "NB_CLASS = len(labels)\n",
    "labels"
   ]
  },
  {
   "cell_type": "code",
   "execution_count": 12,
   "metadata": {
    "ExecuteTime": {
     "end_time": "2021-03-22T10:49:52.201639Z",
     "start_time": "2021-03-22T10:49:48.514077Z"
    }
   },
   "outputs": [
    {
     "name": "stdout",
     "output_type": "stream",
     "text": [
      "Model: \"sequential_1\"\n",
      "_________________________________________________________________\n",
      "Layer (type)                 Output Shape              Param #   \n",
      "=================================================================\n",
      "efficientnet-b0 (Functional) (None, 7, 7, 1280)        4049564   \n",
      "_________________________________________________________________\n",
      "global_average_pooling2d_1 ( (None, 1280)              0         \n",
      "_________________________________________________________________\n",
      "dense_2 (Dense)              (None, 128)               163968    \n",
      "_________________________________________________________________\n",
      "dropout_1 (Dropout)          (None, 128)               0         \n",
      "_________________________________________________________________\n",
      "batch_normalization_1 (Batch (None, 128)               512       \n",
      "_________________________________________________________________\n",
      "dense_3 (Dense)              (None, 2)                 258       \n",
      "=================================================================\n",
      "Total params: 4,214,302\n",
      "Trainable params: 4,172,030\n",
      "Non-trainable params: 42,272\n",
      "_________________________________________________________________\n"
     ]
    }
   ],
   "source": [
    "eff_net = efn.EfficientNetB0(weights='imagenet', include_top=False, input_shape=(IMG_SIZE, IMG_SIZE, 3))\n",
    "model=Sequential()\n",
    "model.add(eff_net)\n",
    "model.add(layers.GlobalAveragePooling2D())\n",
    "model.add(Dense(128, activation='relu'))\n",
    "model.add(Dropout(0.2))\n",
    "model.add(BatchNormalization())\n",
    "model.add(Dense(NB_CLASS, activation='softmax'))\n",
    "\n",
    "alpha = 1e-3  # weight decay coefficient\n",
    "for layer in model.layers:\n",
    "    if isinstance(layer, keras.layers.Conv2D) or isinstance(layer, keras.layers.Dense):\n",
    "        layer.add_loss(lambda: keras.regularizers.l2(alpha)(layer.kernel))\n",
    "    if hasattr(layer, 'bias_regularizer') and layer.use_bias:\n",
    "        layer.add_loss(lambda: keras.regularizers.l2(alpha)(layer.bias))\n",
    "\n",
    "model.summary()"
   ]
  },
  {
   "cell_type": "code",
   "execution_count": 13,
   "metadata": {
    "ExecuteTime": {
     "end_time": "2021-03-22T10:50:47.218936Z",
     "start_time": "2021-03-22T10:50:47.213295Z"
    }
   },
   "outputs": [],
   "source": [
    "# callback - if accuracy doesn't improve after 3 epoch then reduce lr by factor 0.5 \n",
    "reduce_lr = ReduceLROnPlateau(monitor='val_accuracy', factor=0.5,patience=3, min_lr=0.000005)"
   ]
  },
  {
   "cell_type": "code",
   "execution_count": 21,
   "metadata": {
    "ExecuteTime": {
     "end_time": "2021-03-22T14:18:21.817655Z",
     "start_time": "2021-03-22T14:18:21.804137Z"
    }
   },
   "outputs": [],
   "source": [
    "\n",
    "class TestCallback(Callback):\n",
    "    def __init__(self, test_data):\n",
    "        self.test_data = test_data\n",
    "\n",
    "    def on_epoch_end(self, epoch, logs={}):\n",
    "        loss, acc = self.model.evaluate(self.test_data, verbose=1)\n",
    "        print('\\nTesting loss: {}, acc: {}\\n'.format(loss, acc))"
   ]
  },
  {
   "cell_type": "code",
   "execution_count": 14,
   "metadata": {
    "ExecuteTime": {
     "end_time": "2021-03-22T10:52:05.394045Z",
     "start_time": "2021-03-22T10:52:05.363383Z"
    }
   },
   "outputs": [],
   "source": [
    "# compile the model \n",
    "optimizer=optimizers.Adam(lr=0.001)\n",
    "model.compile(optimizer=optimizer,loss=\"categorical_crossentropy\", metrics=['accuracy'])\n"
   ]
  },
  {
   "cell_type": "code",
   "execution_count": 22,
   "metadata": {
    "ExecuteTime": {
     "end_time": "2021-03-22T14:37:14.455955Z",
     "start_time": "2021-03-22T14:18:43.277497Z"
    }
   },
   "outputs": [
    {
     "name": "stdout",
     "output_type": "stream",
     "text": [
      "90/90 [==============================] - 1053s 12s/step - loss: 0.0140 - accuracy: 0.9972 - val_loss: 0.4699 - val_accuracy: 0.8882\n",
      "30/30 [==============================] - 58s 2s/step - loss: 0.5890 - accuracy: 0.8830\n",
      "\n",
      "Testing loss: 0.5890159010887146, acc: 0.8829675912857056\n",
      "\n"
     ]
    }
   ],
   "source": [
    "# train the model\n",
    "history = model.fit(train_ds, epochs=1, validation_data=val_ds, callbacks=[reduce_lr, TestCallback(test_ds)])"
   ]
  },
  {
   "cell_type": "code",
   "execution_count": 17,
   "metadata": {
    "ExecuteTime": {
     "end_time": "2021-03-22T14:10:56.313194Z",
     "start_time": "2021-03-22T14:08:53.117545Z"
    }
   },
   "outputs": [
    {
     "name": "stdout",
     "output_type": "stream",
     "text": [
      "30/30 [==============================] - 123s 4s/step - loss: 0.5541 - accuracy: 0.8777\n"
     ]
    },
    {
     "data": {
      "text/plain": [
       "[0.5540841221809387, 0.8777429461479187]"
      ]
     },
     "execution_count": 17,
     "metadata": {},
     "output_type": "execute_result"
    }
   ],
   "source": [
    "# integrated as CallBack in the fit\n",
    "# model.evaluate(test_ds)"
   ]
  },
  {
   "cell_type": "code",
   "execution_count": 25,
   "metadata": {
    "ExecuteTime": {
     "end_time": "2021-03-22T14:41:36.398453Z",
     "start_time": "2021-03-22T14:40:24.531924Z"
    }
   },
   "outputs": [
    {
     "ename": "NameError",
     "evalue": "name 'confusion_matrix' is not defined",
     "output_type": "error",
     "traceback": [
      "\u001b[0;31m---------------------------------------------------------------------------\u001b[0m",
      "\u001b[0;31mNameError\u001b[0m                                 Traceback (most recent call last)",
      "\u001b[0;32m<ipython-input-25-4905510b2d46>\u001b[0m in \u001b[0;36m<module>\u001b[0;34m\u001b[0m\n\u001b[1;32m      4\u001b[0m \u001b[0;32mfor\u001b[0m \u001b[0m_\u001b[0m\u001b[0;34m,\u001b[0m \u001b[0my\u001b[0m \u001b[0;32min\u001b[0m \u001b[0mtest_ds\u001b[0m\u001b[0;34m:\u001b[0m\u001b[0;34m\u001b[0m\u001b[0;34m\u001b[0m\u001b[0m\n\u001b[1;32m      5\u001b[0m     \u001b[0my_true\u001b[0m \u001b[0;34m=\u001b[0m \u001b[0mnp\u001b[0m\u001b[0;34m.\u001b[0m\u001b[0mconcatenate\u001b[0m\u001b[0;34m(\u001b[0m\u001b[0;34m[\u001b[0m\u001b[0my_true\u001b[0m\u001b[0;34m,\u001b[0m \u001b[0mnp\u001b[0m\u001b[0;34m.\u001b[0m\u001b[0margmax\u001b[0m\u001b[0;34m(\u001b[0m\u001b[0my\u001b[0m\u001b[0;34m.\u001b[0m\u001b[0mnumpy\u001b[0m\u001b[0;34m(\u001b[0m\u001b[0;34m)\u001b[0m\u001b[0;34m,\u001b[0m \u001b[0maxis\u001b[0m\u001b[0;34m=\u001b[0m\u001b[0;34m-\u001b[0m\u001b[0;36m1\u001b[0m\u001b[0;34m)\u001b[0m\u001b[0;34m]\u001b[0m\u001b[0;34m)\u001b[0m\u001b[0;34m\u001b[0m\u001b[0;34m\u001b[0m\u001b[0m\n\u001b[0;32m----> 6\u001b[0;31m \u001b[0mcm\u001b[0m \u001b[0;34m=\u001b[0m \u001b[0mconfusion_matrix\u001b[0m\u001b[0;34m(\u001b[0m\u001b[0my_true\u001b[0m\u001b[0;34m,\u001b[0m \u001b[0mnp\u001b[0m\u001b[0;34m.\u001b[0m\u001b[0margmax\u001b[0m\u001b[0;34m(\u001b[0m\u001b[0my_pred\u001b[0m\u001b[0;34m,\u001b[0m \u001b[0maxis\u001b[0m\u001b[0;34m=\u001b[0m\u001b[0;34m-\u001b[0m\u001b[0;36m1\u001b[0m\u001b[0;34m)\u001b[0m\u001b[0;34m)\u001b[0m\u001b[0;34m\u001b[0m\u001b[0;34m\u001b[0m\u001b[0m\n\u001b[0m",
      "\u001b[0;31mNameError\u001b[0m: name 'confusion_matrix' is not defined"
     ]
    }
   ],
   "source": [
    "y_pred = model.predict(test_ds)\n",
    "\n",
    "y_true =  np.array([])\n",
    "for _, y in test_ds:\n",
    "    y_true = np.concatenate([y_true, np.argmax(y.numpy(), axis=-1)])\n"
   ]
  },
  {
   "cell_type": "code",
   "execution_count": 35,
   "metadata": {
    "ExecuteTime": {
     "end_time": "2021-03-22T14:44:10.074353Z",
     "start_time": "2021-03-22T14:44:10.059913Z"
    }
   },
   "outputs": [
    {
     "data": {
      "text/plain": [
       "array([[245, 209],\n",
       "       [257, 246]])"
      ]
     },
     "execution_count": 35,
     "metadata": {},
     "output_type": "execute_result"
    }
   ],
   "source": [
    "cm = confusion_matrix(y_true, np.argmax(y_pred, axis=-1))\n",
    "cm"
   ]
  },
  {
   "cell_type": "code",
   "execution_count": 36,
   "metadata": {
    "ExecuteTime": {
     "end_time": "2021-03-22T14:44:14.918388Z",
     "start_time": "2021-03-22T14:44:14.667501Z"
    }
   },
   "outputs": [
    {
     "data": {
      "image/png": "[encoded data removed]",
      "text/plain": [
       "<Figure size 432x288 with 2 Axes>"
      ]
     },
     "metadata": {
      "needs_background": "light"
     },
     "output_type": "display_data"
    }
   ],
   "source": [
    "sn.heatmap(cm, annot=True)\n",
    "plt.show()"
   ]
  },
  {
   "cell_type": "code",
   "execution_count": 31,
   "metadata": {
    "ExecuteTime": {
     "end_time": "2021-03-22T14:43:34.324619Z",
     "start_time": "2021-03-22T14:43:34.297951Z"
    }
   },
   "outputs": [
    {
     "name": "stdout",
     "output_type": "stream",
     "text": [
      "              precision    recall  f1-score   support\n",
      "\n",
      "      Begnin       0.49      0.54      0.51       454\n",
      "   Malignant       0.54      0.49      0.51       503\n",
      "\n",
      "    accuracy                           0.51       957\n",
      "   macro avg       0.51      0.51      0.51       957\n",
      "weighted avg       0.52      0.51      0.51       957\n",
      "\n"
     ]
    }
   ],
   "source": [
    "print(classification_report(y_true, np.argmax(y_pred, axis=-1), target_names=[\"Begnin\", \"Malignant\"]))"
   ]
  },
  {
   "cell_type": "code",
   "execution_count": null,
   "metadata": {
    "ExecuteTime": {
     "start_time": "2021-03-22T14:44:48.667Z"
    }
   },
   "outputs": [],
   "source": [
    "model.save(MODEL_NAME)\n"
   ]
  },
  {
   "cell_type": "code",
   "execution_count": null,
   "metadata": {},
   "outputs": [],
   "source": []
  }
 ],
 "metadata": {
  "kernelspec": {
   "display_name": "base",
   "language": "python",
   "name": "base"
  },
  "language_info": {
   "codemirror_mode": {
    "name": "ipython",
    "version": 3
   },
   "file_extension": ".py",
   "mimetype": "text/x-python",
   "name": "python",
   "nbconvert_exporter": "python",
   "pygments_lexer": "ipython3",
   "version": "3.8.5"
  }
 },
 "nbformat": 4,
 "nbformat_minor": 4
}
