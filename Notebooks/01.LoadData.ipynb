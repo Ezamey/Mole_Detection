{
 "cells": [
  {
   "cell_type": "code",
   "execution_count": 1,
   "metadata": {
    "ExecuteTime": {
     "end_time": "2021-03-22T09:23:15.769448Z",
     "start_time": "2021-03-22T09:23:15.088785Z"
    }
   },
   "outputs": [],
   "source": [
    "import pandas as pd"
   ]
  },
  {
   "cell_type": "markdown",
   "metadata": {},
   "source": [
    "## Excel file"
   ]
  },
  {
   "cell_type": "code",
   "execution_count": 2,
   "metadata": {
    "ExecuteTime": {
     "end_time": "2021-03-22T09:23:16.945985Z",
     "start_time": "2021-03-22T09:23:15.779158Z"
    }
   },
   "outputs": [],
   "source": [
    "# Open the Excel file with diagnose\n",
    "df_data = pd.read_excel(\"../data/Mole_Data/CLIN_DIA.xlsx\")"
   ]
  },
  {
   "cell_type": "code",
   "execution_count": 3,
   "metadata": {
    "ExecuteTime": {
     "end_time": "2021-03-22T09:23:16.999030Z",
     "start_time": "2021-03-22T09:23:16.948436Z"
    }
   },
   "outputs": [
    {
     "data": {
      "text/html": [
       "<div>\n",
       "<style scoped>\n",
       "    .dataframe tbody tr th:only-of-type {\n",
       "        vertical-align: middle;\n",
       "    }\n",
       "\n",
       "    .dataframe tbody tr th {\n",
       "        vertical-align: top;\n",
       "    }\n",
       "\n",
       "    .dataframe thead th {\n",
       "        text-align: right;\n",
       "    }\n",
       "</style>\n",
       "<table border=\"1\" class=\"dataframe\">\n",
       "  <thead>\n",
       "    <tr style=\"text-align: right;\">\n",
       "      <th></th>\n",
       "      <th>klin. Diagn.</th>\n",
       "      <th>id</th>\n",
       "      <th>nr</th>\n",
       "      <th>Histo performed</th>\n",
       "      <th>Diagnose red.</th>\n",
       "      <th>kat.Diagnose</th>\n",
       "    </tr>\n",
       "  </thead>\n",
       "  <tbody>\n",
       "    <tr>\n",
       "      <th>0</th>\n",
       "      <td>Compound Nävus</td>\n",
       "      <td>d1</td>\n",
       "      <td>1.0</td>\n",
       "      <td>0.0</td>\n",
       "      <td>Compound Nevus</td>\n",
       "      <td>1</td>\n",
       "    </tr>\n",
       "    <tr>\n",
       "      <th>1</th>\n",
       "      <td>Compound Nävus</td>\n",
       "      <td>d2</td>\n",
       "      <td>2.0</td>\n",
       "      <td>0.0</td>\n",
       "      <td>Compound Nevus</td>\n",
       "      <td>1</td>\n",
       "    </tr>\n",
       "    <tr>\n",
       "      <th>2</th>\n",
       "      <td>Dysplastischer Nävus</td>\n",
       "      <td>d3</td>\n",
       "      <td>3.0</td>\n",
       "      <td>0.0</td>\n",
       "      <td>Compound Nevus</td>\n",
       "      <td>1</td>\n",
       "    </tr>\n",
       "    <tr>\n",
       "      <th>3</th>\n",
       "      <td>Compound Nävus</td>\n",
       "      <td>d4</td>\n",
       "      <td>4.0</td>\n",
       "      <td>0.0</td>\n",
       "      <td>Compound Nevus</td>\n",
       "      <td>1</td>\n",
       "    </tr>\n",
       "    <tr>\n",
       "      <th>4</th>\n",
       "      <td>Dermaler Nävus</td>\n",
       "      <td>d5</td>\n",
       "      <td>5.0</td>\n",
       "      <td>0.0</td>\n",
       "      <td>Compound Nevus</td>\n",
       "      <td>1</td>\n",
       "    </tr>\n",
       "    <tr>\n",
       "      <th>5</th>\n",
       "      <td>Dysplastischer Nävus</td>\n",
       "      <td>d6</td>\n",
       "      <td>6.0</td>\n",
       "      <td>0.0</td>\n",
       "      <td>Compound Nevus</td>\n",
       "      <td>1</td>\n",
       "    </tr>\n",
       "    <tr>\n",
       "      <th>6</th>\n",
       "      <td>Dysplastischer Nävus</td>\n",
       "      <td>d7</td>\n",
       "      <td>7.0</td>\n",
       "      <td>0.0</td>\n",
       "      <td>Compound Nevus</td>\n",
       "      <td>1</td>\n",
       "    </tr>\n",
       "    <tr>\n",
       "      <th>7</th>\n",
       "      <td>Compound Nävus</td>\n",
       "      <td>d8</td>\n",
       "      <td>8.0</td>\n",
       "      <td>0.0</td>\n",
       "      <td>Compound Nevus</td>\n",
       "      <td>1</td>\n",
       "    </tr>\n",
       "    <tr>\n",
       "      <th>8</th>\n",
       "      <td>Dysplastischer Nävus</td>\n",
       "      <td>d9</td>\n",
       "      <td>9.0</td>\n",
       "      <td>0.0</td>\n",
       "      <td>Compound Nevus</td>\n",
       "      <td>1</td>\n",
       "    </tr>\n",
       "    <tr>\n",
       "      <th>9</th>\n",
       "      <td>Compound Nävus</td>\n",
       "      <td>d10</td>\n",
       "      <td>10.0</td>\n",
       "      <td>0.0</td>\n",
       "      <td>Compound Nevus</td>\n",
       "      <td>1</td>\n",
       "    </tr>\n",
       "  </tbody>\n",
       "</table>\n",
       "</div>"
      ],
      "text/plain": [
       "           klin. Diagn.   id    nr  Histo performed   Diagnose red.  \\\n",
       "0        Compound Nävus   d1   1.0              0.0  Compound Nevus   \n",
       "1        Compound Nävus   d2   2.0              0.0  Compound Nevus   \n",
       "2  Dysplastischer Nävus   d3   3.0              0.0  Compound Nevus   \n",
       "3        Compound Nävus   d4   4.0              0.0  Compound Nevus   \n",
       "4        Dermaler Nävus   d5   5.0              0.0  Compound Nevus   \n",
       "5  Dysplastischer Nävus   d6   6.0              0.0  Compound Nevus   \n",
       "6  Dysplastischer Nävus   d7   7.0              0.0  Compound Nevus   \n",
       "7        Compound Nävus   d8   8.0              0.0  Compound Nevus   \n",
       "8  Dysplastischer Nävus   d9   9.0              0.0  Compound Nevus   \n",
       "9        Compound Nävus  d10  10.0              0.0  Compound Nevus   \n",
       "\n",
       "  kat.Diagnose  \n",
       "0            1  \n",
       "1            1  \n",
       "2            1  \n",
       "3            1  \n",
       "4            1  \n",
       "5            1  \n",
       "6            1  \n",
       "7            1  \n",
       "8            1  \n",
       "9            1  "
      ]
     },
     "execution_count": 3,
     "metadata": {},
     "output_type": "execute_result"
    }
   ],
   "source": [
    "df_data.head(10)"
   ]
  },
  {
   "cell_type": "code",
   "execution_count": 4,
   "metadata": {
    "ExecuteTime": {
     "end_time": "2021-03-22T09:23:17.049028Z",
     "start_time": "2021-03-22T09:23:17.006459Z"
    }
   },
   "outputs": [
    {
     "data": {
      "text/html": [
       "<div>\n",
       "<style scoped>\n",
       "    .dataframe tbody tr th:only-of-type {\n",
       "        vertical-align: middle;\n",
       "    }\n",
       "\n",
       "    .dataframe tbody tr th {\n",
       "        vertical-align: top;\n",
       "    }\n",
       "\n",
       "    .dataframe thead th {\n",
       "        text-align: right;\n",
       "    }\n",
       "</style>\n",
       "<table border=\"1\" class=\"dataframe\">\n",
       "  <thead>\n",
       "    <tr style=\"text-align: right;\">\n",
       "      <th></th>\n",
       "      <th>klin. Diagn.</th>\n",
       "      <th>id</th>\n",
       "      <th>nr</th>\n",
       "      <th>Histo performed</th>\n",
       "      <th>Diagnose red.</th>\n",
       "      <th>kat.Diagnose</th>\n",
       "    </tr>\n",
       "  </thead>\n",
       "  <tbody>\n",
       "    <tr>\n",
       "      <th>5490</th>\n",
       "      <td>NaN</td>\n",
       "      <td>NaN</td>\n",
       "      <td>NaN</td>\n",
       "      <td>NaN</td>\n",
       "      <td>NaN</td>\n",
       "      <td>NaN</td>\n",
       "    </tr>\n",
       "    <tr>\n",
       "      <th>5491</th>\n",
       "      <td>NaN</td>\n",
       "      <td>NaN</td>\n",
       "      <td>NaN</td>\n",
       "      <td>NaN</td>\n",
       "      <td>NaN</td>\n",
       "      <td>NaN</td>\n",
       "    </tr>\n",
       "    <tr>\n",
       "      <th>5492</th>\n",
       "      <td>NaN</td>\n",
       "      <td>NaN</td>\n",
       "      <td>NaN</td>\n",
       "      <td>NaN</td>\n",
       "      <td>NaN</td>\n",
       "      <td>NaN</td>\n",
       "    </tr>\n",
       "    <tr>\n",
       "      <th>5493</th>\n",
       "      <td>NaN</td>\n",
       "      <td>NaN</td>\n",
       "      <td>NaN</td>\n",
       "      <td>NaN</td>\n",
       "      <td>NaN</td>\n",
       "      <td>NaN</td>\n",
       "    </tr>\n",
       "    <tr>\n",
       "      <th>5494</th>\n",
       "      <td>NaN</td>\n",
       "      <td>NaN</td>\n",
       "      <td>NaN</td>\n",
       "      <td>NaN</td>\n",
       "      <td>NaN</td>\n",
       "      <td>NaN</td>\n",
       "    </tr>\n",
       "    <tr>\n",
       "      <th>5495</th>\n",
       "      <td>NaN</td>\n",
       "      <td>NaN</td>\n",
       "      <td>NaN</td>\n",
       "      <td>NaN</td>\n",
       "      <td>NaN</td>\n",
       "      <td>NaN</td>\n",
       "    </tr>\n",
       "    <tr>\n",
       "      <th>5496</th>\n",
       "      <td>NaN</td>\n",
       "      <td>NaN</td>\n",
       "      <td>NaN</td>\n",
       "      <td>NaN</td>\n",
       "      <td>NaN</td>\n",
       "      <td>NaN</td>\n",
       "    </tr>\n",
       "    <tr>\n",
       "      <th>5497</th>\n",
       "      <td>NaN</td>\n",
       "      <td>NaN</td>\n",
       "      <td>NaN</td>\n",
       "      <td>NaN</td>\n",
       "      <td>NaN</td>\n",
       "      <td>NaN</td>\n",
       "    </tr>\n",
       "    <tr>\n",
       "      <th>5498</th>\n",
       "      <td>NaN</td>\n",
       "      <td>NaN</td>\n",
       "      <td>NaN</td>\n",
       "      <td>NaN</td>\n",
       "      <td>NaN</td>\n",
       "      <td>NaN</td>\n",
       "    </tr>\n",
       "    <tr>\n",
       "      <th>5499</th>\n",
       "      <td>NaN</td>\n",
       "      <td>NaN</td>\n",
       "      <td>NaN</td>\n",
       "      <td>NaN</td>\n",
       "      <td>NaN</td>\n",
       "      <td>NaN</td>\n",
       "    </tr>\n",
       "  </tbody>\n",
       "</table>\n",
       "</div>"
      ],
      "text/plain": [
       "     klin. Diagn.   id  nr  Histo performed Diagnose red. kat.Diagnose\n",
       "5490          NaN  NaN NaN              NaN           NaN          NaN\n",
       "5491          NaN  NaN NaN              NaN           NaN          NaN\n",
       "5492          NaN  NaN NaN              NaN           NaN          NaN\n",
       "5493          NaN  NaN NaN              NaN           NaN          NaN\n",
       "5494          NaN  NaN NaN              NaN           NaN          NaN\n",
       "5495          NaN  NaN NaN              NaN           NaN          NaN\n",
       "5496          NaN  NaN NaN              NaN           NaN          NaN\n",
       "5497          NaN  NaN NaN              NaN           NaN          NaN\n",
       "5498          NaN  NaN NaN              NaN           NaN          NaN\n",
       "5499          NaN  NaN NaN              NaN           NaN          NaN"
      ]
     },
     "execution_count": 4,
     "metadata": {},
     "output_type": "execute_result"
    }
   ],
   "source": [
    "df_data.tail(10)"
   ]
  },
  {
   "cell_type": "code",
   "execution_count": 5,
   "metadata": {
    "ExecuteTime": {
     "end_time": "2021-03-22T09:23:17.129522Z",
     "start_time": "2021-03-22T09:23:17.080987Z"
    }
   },
   "outputs": [
    {
     "name": "stdout",
     "output_type": "stream",
     "text": [
      "<class 'pandas.core.frame.DataFrame'>\n",
      "RangeIndex: 5500 entries, 0 to 5499\n",
      "Data columns (total 6 columns):\n",
      " #   Column           Non-Null Count  Dtype  \n",
      "---  ------           --------------  -----  \n",
      " 0   klin. Diagn.     3000 non-null   object \n",
      " 1   id               3000 non-null   object \n",
      " 2   nr               3000 non-null   float64\n",
      " 3   Histo performed  3000 non-null   float64\n",
      " 4   Diagnose red.    3000 non-null   object \n",
      " 5   kat.Diagnose     3000 non-null   object \n",
      "dtypes: float64(2), object(4)\n",
      "memory usage: 257.9+ KB\n"
     ]
    }
   ],
   "source": [
    "df_data.info()"
   ]
  },
  {
   "cell_type": "code",
   "execution_count": 6,
   "metadata": {
    "ExecuteTime": {
     "end_time": "2021-03-22T09:23:17.163638Z",
     "start_time": "2021-03-22T09:23:17.146280Z"
    }
   },
   "outputs": [
    {
     "data": {
      "text/plain": [
       "klin. Diagn.       2500\n",
       "id                 2500\n",
       "nr                 2500\n",
       "Histo performed    2500\n",
       "Diagnose red.      2500\n",
       "kat.Diagnose       2500\n",
       "dtype: int64"
      ]
     },
     "execution_count": 6,
     "metadata": {},
     "output_type": "execute_result"
    }
   ],
   "source": [
    "# Check null values\n",
    "df_data.isna().sum()"
   ]
  },
  {
   "cell_type": "code",
   "execution_count": 7,
   "metadata": {
    "ExecuteTime": {
     "end_time": "2021-03-22T09:23:17.207429Z",
     "start_time": "2021-03-22T09:23:17.177033Z"
    }
   },
   "outputs": [
    {
     "name": "stdout",
     "output_type": "stream",
     "text": [
      "Good job guy! All NaN are cleaned!\n"
     ]
    }
   ],
   "source": [
    "# Delete empty rows\n",
    "filter_empty_id = df_data.id.isna()\n",
    "df_data = df_data.drop(df_data[filter_empty_id].index)\n",
    "if df_data.isna().values.any():\n",
    "    print(\"There is still some NaN\")\n",
    "else:\n",
    "    print(\"Good job guy! All NaN are cleaned!\")"
   ]
  },
  {
   "cell_type": "code",
   "execution_count": 8,
   "metadata": {
    "ExecuteTime": {
     "end_time": "2021-03-22T09:23:17.247708Z",
     "start_time": "2021-03-22T09:23:17.214104Z"
    }
   },
   "outputs": [
    {
     "data": {
      "text/plain": [
       "1    2300\n",
       "2     585\n",
       "0      62\n",
       "3      52\n",
       "?       1\n",
       "Name: kat.Diagnose, dtype: int64"
      ]
     },
     "execution_count": 8,
     "metadata": {},
     "output_type": "execute_result"
    }
   ],
   "source": [
    "# Check diagnose class\n",
    "df_data[\"kat.Diagnose\"].value_counts()"
   ]
  },
  {
   "cell_type": "code",
   "execution_count": 9,
   "metadata": {
    "ExecuteTime": {
     "end_time": "2021-03-22T09:23:17.288592Z",
     "start_time": "2021-03-22T09:23:17.261607Z"
    }
   },
   "outputs": [
    {
     "data": {
      "text/plain": [
       "1    2300\n",
       "2     585\n",
       "0      62\n",
       "3      52\n",
       "Name: kat.Diagnose, dtype: int64"
      ]
     },
     "execution_count": 9,
     "metadata": {},
     "output_type": "execute_result"
    }
   ],
   "source": [
    "# Drop \"?\" from \n",
    "filter_bad_diagnose = df_data[\"kat.Diagnose\"] == \"?\"\n",
    "df_data = df_data.drop(df_data[filter_bad_diagnose].index)\n",
    "df_data[\"kat.Diagnose\"].value_counts()"
   ]
  },
  {
   "cell_type": "code",
   "execution_count": 10,
   "metadata": {
    "ExecuteTime": {
     "end_time": "2021-03-22T09:23:17.314799Z",
     "start_time": "2021-03-22T09:23:17.297383Z"
    }
   },
   "outputs": [],
   "source": [
    "# Convert ID to UPPER\n",
    "df_data[\"id\"] = df_data[\"id\"].apply(lambda x: x.upper())"
   ]
  },
  {
   "cell_type": "code",
   "execution_count": 11,
   "metadata": {
    "ExecuteTime": {
     "end_time": "2021-03-22T09:23:17.364260Z",
     "start_time": "2021-03-22T09:23:17.317286Z"
    }
   },
   "outputs": [
    {
     "data": {
      "text/html": [
       "<div>\n",
       "<style scoped>\n",
       "    .dataframe tbody tr th:only-of-type {\n",
       "        vertical-align: middle;\n",
       "    }\n",
       "\n",
       "    .dataframe tbody tr th {\n",
       "        vertical-align: top;\n",
       "    }\n",
       "\n",
       "    .dataframe thead th {\n",
       "        text-align: right;\n",
       "    }\n",
       "</style>\n",
       "<table border=\"1\" class=\"dataframe\">\n",
       "  <thead>\n",
       "    <tr style=\"text-align: right;\">\n",
       "      <th></th>\n",
       "      <th>klin. Diagn.</th>\n",
       "      <th>id</th>\n",
       "      <th>nr</th>\n",
       "      <th>Histo performed</th>\n",
       "      <th>Diagnose red.</th>\n",
       "      <th>kat.Diagnose</th>\n",
       "    </tr>\n",
       "  </thead>\n",
       "  <tbody>\n",
       "    <tr>\n",
       "      <th>2353</th>\n",
       "      <td>Compound Nevus</td>\n",
       "      <td>F354</td>\n",
       "      <td>2354.0</td>\n",
       "      <td>0.0</td>\n",
       "      <td>Compound Nevus</td>\n",
       "      <td>1</td>\n",
       "    </tr>\n",
       "    <tr>\n",
       "      <th>2956</th>\n",
       "      <td>Compound Nevus</td>\n",
       "      <td>F957</td>\n",
       "      <td>2957.0</td>\n",
       "      <td>0.0</td>\n",
       "      <td>Compound Nevus</td>\n",
       "      <td>1</td>\n",
       "    </tr>\n",
       "    <tr>\n",
       "      <th>749</th>\n",
       "      <td>Compound Nevus</td>\n",
       "      <td>D750</td>\n",
       "      <td>750.0</td>\n",
       "      <td>0.0</td>\n",
       "      <td>Compound Nevus</td>\n",
       "      <td>1</td>\n",
       "    </tr>\n",
       "    <tr>\n",
       "      <th>2134</th>\n",
       "      <td>Compound Nevus</td>\n",
       "      <td>F135</td>\n",
       "      <td>2135.0</td>\n",
       "      <td>0.0</td>\n",
       "      <td>Compound Nevus</td>\n",
       "      <td>1</td>\n",
       "    </tr>\n",
       "    <tr>\n",
       "      <th>878</th>\n",
       "      <td>Compound Nevus</td>\n",
       "      <td>D879</td>\n",
       "      <td>879.0</td>\n",
       "      <td>0.0</td>\n",
       "      <td>Compound Nevus</td>\n",
       "      <td>1</td>\n",
       "    </tr>\n",
       "    <tr>\n",
       "      <th>238</th>\n",
       "      <td>Junctional Nevus</td>\n",
       "      <td>D239</td>\n",
       "      <td>239.0</td>\n",
       "      <td>0.0</td>\n",
       "      <td>Junctional Nevus</td>\n",
       "      <td>1</td>\n",
       "    </tr>\n",
       "    <tr>\n",
       "      <th>2694</th>\n",
       "      <td>Blue Nevus</td>\n",
       "      <td>F695</td>\n",
       "      <td>2695.0</td>\n",
       "      <td>0.0</td>\n",
       "      <td>Blue Nevus</td>\n",
       "      <td>1</td>\n",
       "    </tr>\n",
       "    <tr>\n",
       "      <th>2327</th>\n",
       "      <td>Compound Nevus</td>\n",
       "      <td>F328</td>\n",
       "      <td>2328.0</td>\n",
       "      <td>0.0</td>\n",
       "      <td>Compound Nevus</td>\n",
       "      <td>1</td>\n",
       "    </tr>\n",
       "    <tr>\n",
       "      <th>1054</th>\n",
       "      <td>Compound Nevus</td>\n",
       "      <td>E55</td>\n",
       "      <td>1055.0</td>\n",
       "      <td>0.0</td>\n",
       "      <td>Compound Nevus</td>\n",
       "      <td>1</td>\n",
       "    </tr>\n",
       "    <tr>\n",
       "      <th>1990</th>\n",
       "      <td>Compound Nevus</td>\n",
       "      <td>E991</td>\n",
       "      <td>1991.0</td>\n",
       "      <td>0.0</td>\n",
       "      <td>Compound Nevus</td>\n",
       "      <td>1</td>\n",
       "    </tr>\n",
       "  </tbody>\n",
       "</table>\n",
       "</div>"
      ],
      "text/plain": [
       "          klin. Diagn.    id      nr  Histo performed     Diagnose red.  \\\n",
       "2353    Compound Nevus  F354  2354.0              0.0    Compound Nevus   \n",
       "2956    Compound Nevus  F957  2957.0              0.0    Compound Nevus   \n",
       "749     Compound Nevus  D750   750.0              0.0    Compound Nevus   \n",
       "2134    Compound Nevus  F135  2135.0              0.0    Compound Nevus   \n",
       "878     Compound Nevus  D879   879.0              0.0    Compound Nevus   \n",
       "238   Junctional Nevus  D239   239.0              0.0  Junctional Nevus   \n",
       "2694        Blue Nevus  F695  2695.0              0.0        Blue Nevus   \n",
       "2327    Compound Nevus  F328  2328.0              0.0    Compound Nevus   \n",
       "1054    Compound Nevus   E55  1055.0              0.0    Compound Nevus   \n",
       "1990    Compound Nevus  E991  1991.0              0.0    Compound Nevus   \n",
       "\n",
       "     kat.Diagnose  \n",
       "2353            1  \n",
       "2956            1  \n",
       "749             1  \n",
       "2134            1  \n",
       "878             1  \n",
       "238             1  \n",
       "2694            1  \n",
       "2327            1  \n",
       "1054            1  \n",
       "1990            1  "
      ]
     },
     "execution_count": 11,
     "metadata": {},
     "output_type": "execute_result"
    }
   ],
   "source": [
    "df_data.sample(10)"
   ]
  },
  {
   "cell_type": "markdown",
   "metadata": {},
   "source": [
    "## Image files"
   ]
  },
  {
   "cell_type": "code",
   "execution_count": 12,
   "metadata": {
    "ExecuteTime": {
     "end_time": "2021-03-22T09:23:17.382158Z",
     "start_time": "2021-03-22T09:23:17.373756Z"
    }
   },
   "outputs": [],
   "source": [
    "import numpy as np\n",
    "\n",
    "import os\n"
   ]
  },
  {
   "cell_type": "code",
   "execution_count": 13,
   "metadata": {
    "ExecuteTime": {
     "end_time": "2021-03-22T09:23:17.402241Z",
     "start_time": "2021-03-22T09:23:17.391450Z"
    }
   },
   "outputs": [],
   "source": [
    "def load_bmp_dataset(path):\n",
    "    filelist = []\n",
    "    for root, _, files in os.walk(path):\n",
    "        filelist = filelist + [os.path.join(root, x) for x in files if x.upper().endswith(('.BMP'))] \n",
    "    \n",
    "    df = pd.DataFrame(filelist, columns=[\"file_path\"])\n",
    "    df[\"id\"] = df[\"file_path\"].apply(lambda x: (x.split('/')[-1]).replace(\".BMP\", \"\"))\n",
    "    \n",
    "    return df"
   ]
  },
  {
   "cell_type": "code",
   "execution_count": 14,
   "metadata": {
    "ExecuteTime": {
     "end_time": "2021-03-22T09:23:17.456479Z",
     "start_time": "2021-03-22T09:23:17.407377Z"
    }
   },
   "outputs": [
    {
     "data": {
      "text/plain": [
       "(2900, 2)"
      ]
     },
     "execution_count": 14,
     "metadata": {},
     "output_type": "execute_result"
    }
   ],
   "source": [
    "image_base_dir = \"../data/Mole_Data/\"\n",
    "\n",
    "df_images = load_bmp_dataset(image_base_dir)\n",
    "df_images.shape"
   ]
  },
  {
   "cell_type": "code",
   "execution_count": 15,
   "metadata": {
    "ExecuteTime": {
     "end_time": "2021-03-22T09:23:17.499479Z",
     "start_time": "2021-03-22T09:23:17.465043Z"
    }
   },
   "outputs": [
    {
     "data": {
      "text/html": [
       "<div>\n",
       "<style scoped>\n",
       "    .dataframe tbody tr th:only-of-type {\n",
       "        vertical-align: middle;\n",
       "    }\n",
       "\n",
       "    .dataframe tbody tr th {\n",
       "        vertical-align: top;\n",
       "    }\n",
       "\n",
       "    .dataframe thead th {\n",
       "        text-align: right;\n",
       "    }\n",
       "</style>\n",
       "<table border=\"1\" class=\"dataframe\">\n",
       "  <thead>\n",
       "    <tr style=\"text-align: right;\">\n",
       "      <th></th>\n",
       "      <th>file_path</th>\n",
       "      <th>id</th>\n",
       "    </tr>\n",
       "  </thead>\n",
       "  <tbody>\n",
       "    <tr>\n",
       "      <th>446</th>\n",
       "      <td>../data/Mole_Data/SET_D/D812.BMP</td>\n",
       "      <td>D812</td>\n",
       "    </tr>\n",
       "    <tr>\n",
       "      <th>1698</th>\n",
       "      <td>../data/Mole_Data/SET_E/E382.BMP</td>\n",
       "      <td>E382</td>\n",
       "    </tr>\n",
       "    <tr>\n",
       "      <th>1041</th>\n",
       "      <td>../data/Mole_Data/SET_E/E558.BMP</td>\n",
       "      <td>E558</td>\n",
       "    </tr>\n",
       "    <tr>\n",
       "      <th>319</th>\n",
       "      <td>../data/Mole_Data/SET_D/D619.BMP</td>\n",
       "      <td>D619</td>\n",
       "    </tr>\n",
       "    <tr>\n",
       "      <th>534</th>\n",
       "      <td>../data/Mole_Data/SET_D/D52.BMP</td>\n",
       "      <td>D52</td>\n",
       "    </tr>\n",
       "    <tr>\n",
       "      <th>2308</th>\n",
       "      <td>../data/Mole_Data/SET_F/F779.BMP</td>\n",
       "      <td>F779</td>\n",
       "    </tr>\n",
       "    <tr>\n",
       "      <th>535</th>\n",
       "      <td>../data/Mole_Data/SET_D/D217.BMP</td>\n",
       "      <td>D217</td>\n",
       "    </tr>\n",
       "    <tr>\n",
       "      <th>2162</th>\n",
       "      <td>../data/Mole_Data/SET_F/F268.BMP</td>\n",
       "      <td>F268</td>\n",
       "    </tr>\n",
       "    <tr>\n",
       "      <th>989</th>\n",
       "      <td>../data/Mole_Data/SET_E/E58.BMP</td>\n",
       "      <td>E58</td>\n",
       "    </tr>\n",
       "    <tr>\n",
       "      <th>812</th>\n",
       "      <td>../data/Mole_Data/SET_D/D856.BMP</td>\n",
       "      <td>D856</td>\n",
       "    </tr>\n",
       "  </tbody>\n",
       "</table>\n",
       "</div>"
      ],
      "text/plain": [
       "                             file_path    id\n",
       "446   ../data/Mole_Data/SET_D/D812.BMP  D812\n",
       "1698  ../data/Mole_Data/SET_E/E382.BMP  E382\n",
       "1041  ../data/Mole_Data/SET_E/E558.BMP  E558\n",
       "319   ../data/Mole_Data/SET_D/D619.BMP  D619\n",
       "534    ../data/Mole_Data/SET_D/D52.BMP   D52\n",
       "2308  ../data/Mole_Data/SET_F/F779.BMP  F779\n",
       "535   ../data/Mole_Data/SET_D/D217.BMP  D217\n",
       "2162  ../data/Mole_Data/SET_F/F268.BMP  F268\n",
       "989    ../data/Mole_Data/SET_E/E58.BMP   E58\n",
       "812   ../data/Mole_Data/SET_D/D856.BMP  D856"
      ]
     },
     "execution_count": 15,
     "metadata": {},
     "output_type": "execute_result"
    }
   ],
   "source": [
    "df_images.sample(10)"
   ]
  },
  {
   "cell_type": "markdown",
   "metadata": {},
   "source": [
    "## Merge data"
   ]
  },
  {
   "cell_type": "code",
   "execution_count": 16,
   "metadata": {
    "ExecuteTime": {
     "end_time": "2021-03-22T09:23:17.531023Z",
     "start_time": "2021-03-22T09:23:17.505847Z"
    }
   },
   "outputs": [],
   "source": [
    "df_global = pd.merge(df_data, df_images, on='id', how='inner')"
   ]
  },
  {
   "cell_type": "code",
   "execution_count": 17,
   "metadata": {
    "ExecuteTime": {
     "end_time": "2021-03-22T09:23:17.554190Z",
     "start_time": "2021-03-22T09:23:17.545177Z"
    }
   },
   "outputs": [
    {
     "data": {
      "text/plain": [
       "(2900, 7)"
      ]
     },
     "execution_count": 17,
     "metadata": {},
     "output_type": "execute_result"
    }
   ],
   "source": [
    "df_global.shape"
   ]
  },
  {
   "cell_type": "code",
   "execution_count": 18,
   "metadata": {
    "ExecuteTime": {
     "end_time": "2021-03-22T09:23:17.614322Z",
     "start_time": "2021-03-22T09:23:17.564723Z"
    }
   },
   "outputs": [
    {
     "name": "stdout",
     "output_type": "stream",
     "text": [
      "<class 'pandas.core.frame.DataFrame'>\n",
      "Int64Index: 2900 entries, 0 to 2899\n",
      "Data columns (total 7 columns):\n",
      " #   Column           Non-Null Count  Dtype  \n",
      "---  ------           --------------  -----  \n",
      " 0   klin. Diagn.     2900 non-null   object \n",
      " 1   id               2900 non-null   object \n",
      " 2   nr               2900 non-null   float64\n",
      " 3   Histo performed  2900 non-null   float64\n",
      " 4   Diagnose red.    2900 non-null   object \n",
      " 5   kat.Diagnose     2900 non-null   object \n",
      " 6   file_path        2900 non-null   object \n",
      "dtypes: float64(2), object(5)\n",
      "memory usage: 181.2+ KB\n"
     ]
    }
   ],
   "source": [
    "df_global.info()"
   ]
  },
  {
   "cell_type": "code",
   "execution_count": 19,
   "metadata": {
    "ExecuteTime": {
     "end_time": "2021-03-22T09:23:17.694724Z",
     "start_time": "2021-03-22T09:23:17.629033Z"
    }
   },
   "outputs": [
    {
     "data": {
      "text/html": [
       "<div>\n",
       "<style scoped>\n",
       "    .dataframe tbody tr th:only-of-type {\n",
       "        vertical-align: middle;\n",
       "    }\n",
       "\n",
       "    .dataframe tbody tr th {\n",
       "        vertical-align: top;\n",
       "    }\n",
       "\n",
       "    .dataframe thead th {\n",
       "        text-align: right;\n",
       "    }\n",
       "</style>\n",
       "<table border=\"1\" class=\"dataframe\">\n",
       "  <thead>\n",
       "    <tr style=\"text-align: right;\">\n",
       "      <th></th>\n",
       "      <th>klin. Diagn.</th>\n",
       "      <th>id</th>\n",
       "      <th>nr</th>\n",
       "      <th>Histo performed</th>\n",
       "      <th>Diagnose red.</th>\n",
       "      <th>kat.Diagnose</th>\n",
       "      <th>file_path</th>\n",
       "    </tr>\n",
       "  </thead>\n",
       "  <tbody>\n",
       "    <tr>\n",
       "      <th>2114</th>\n",
       "      <td>Atypical Nevus</td>\n",
       "      <td>F186</td>\n",
       "      <td>2186.0</td>\n",
       "      <td>1.0</td>\n",
       "      <td>Junctional Nevus</td>\n",
       "      <td>1</td>\n",
       "      <td>../data/Mole_Data/SET_F/F186.BMP</td>\n",
       "    </tr>\n",
       "    <tr>\n",
       "      <th>136</th>\n",
       "      <td>Compound Nevus</td>\n",
       "      <td>D146</td>\n",
       "      <td>146.0</td>\n",
       "      <td>0.0</td>\n",
       "      <td>Compound Nevus</td>\n",
       "      <td>1</td>\n",
       "      <td>../data/Mole_Data/SET_D/D146.BMP</td>\n",
       "    </tr>\n",
       "    <tr>\n",
       "      <th>47</th>\n",
       "      <td>Compound Nävus</td>\n",
       "      <td>D49</td>\n",
       "      <td>49.0</td>\n",
       "      <td>0.0</td>\n",
       "      <td>Compound Nevus</td>\n",
       "      <td>1</td>\n",
       "      <td>../data/Mole_Data/SET_D/D49.BMP</td>\n",
       "    </tr>\n",
       "    <tr>\n",
       "      <th>1016</th>\n",
       "      <td>Atypical Nevus</td>\n",
       "      <td>E39</td>\n",
       "      <td>1039.0</td>\n",
       "      <td>0.0</td>\n",
       "      <td>Dysplastic Nevus</td>\n",
       "      <td>2</td>\n",
       "      <td>../data/Mole_Data/SET_E/E39.BMP</td>\n",
       "    </tr>\n",
       "    <tr>\n",
       "      <th>1472</th>\n",
       "      <td>Dermal Nevus</td>\n",
       "      <td>E522</td>\n",
       "      <td>1522.0</td>\n",
       "      <td>1.0</td>\n",
       "      <td>Dermal Nevus</td>\n",
       "      <td>1</td>\n",
       "      <td>../data/Mole_Data/SET_E/E522.BMP</td>\n",
       "    </tr>\n",
       "    <tr>\n",
       "      <th>2702</th>\n",
       "      <td>Compound Nevus</td>\n",
       "      <td>F788</td>\n",
       "      <td>2788.0</td>\n",
       "      <td>0.0</td>\n",
       "      <td>Compound Nevus</td>\n",
       "      <td>1</td>\n",
       "      <td>../data/Mole_Data/SET_F/F788.BMP</td>\n",
       "    </tr>\n",
       "    <tr>\n",
       "      <th>1226</th>\n",
       "      <td>Compound Nevus</td>\n",
       "      <td>E260</td>\n",
       "      <td>1260.0</td>\n",
       "      <td>0.0</td>\n",
       "      <td>Compound Nevus</td>\n",
       "      <td>1</td>\n",
       "      <td>../data/Mole_Data/SET_E/E260.BMP</td>\n",
       "    </tr>\n",
       "    <tr>\n",
       "      <th>1254</th>\n",
       "      <td>Atypical Nevus</td>\n",
       "      <td>E290</td>\n",
       "      <td>1290.0</td>\n",
       "      <td>1.0</td>\n",
       "      <td>Dysplastic Nevus</td>\n",
       "      <td>2</td>\n",
       "      <td>../data/Mole_Data/SET_E/E290.BMP</td>\n",
       "    </tr>\n",
       "    <tr>\n",
       "      <th>1301</th>\n",
       "      <td>Compound Nevus</td>\n",
       "      <td>E339</td>\n",
       "      <td>1339.0</td>\n",
       "      <td>0.0</td>\n",
       "      <td>Compound Nevus</td>\n",
       "      <td>1</td>\n",
       "      <td>../data/Mole_Data/SET_E/E339.BMP</td>\n",
       "    </tr>\n",
       "    <tr>\n",
       "      <th>2020</th>\n",
       "      <td>Dermal Nevus</td>\n",
       "      <td>F89</td>\n",
       "      <td>2089.0</td>\n",
       "      <td>0.0</td>\n",
       "      <td>Dermal Nevus</td>\n",
       "      <td>1</td>\n",
       "      <td>../data/Mole_Data/SET_F/F89.BMP</td>\n",
       "    </tr>\n",
       "  </tbody>\n",
       "</table>\n",
       "</div>"
      ],
      "text/plain": [
       "        klin. Diagn.    id      nr  Histo performed     Diagnose red.  \\\n",
       "2114  Atypical Nevus  F186  2186.0              1.0  Junctional Nevus   \n",
       "136   Compound Nevus  D146   146.0              0.0    Compound Nevus   \n",
       "47    Compound Nävus   D49    49.0              0.0    Compound Nevus   \n",
       "1016  Atypical Nevus   E39  1039.0              0.0  Dysplastic Nevus   \n",
       "1472    Dermal Nevus  E522  1522.0              1.0      Dermal Nevus   \n",
       "2702  Compound Nevus  F788  2788.0              0.0    Compound Nevus   \n",
       "1226  Compound Nevus  E260  1260.0              0.0    Compound Nevus   \n",
       "1254  Atypical Nevus  E290  1290.0              1.0  Dysplastic Nevus   \n",
       "1301  Compound Nevus  E339  1339.0              0.0    Compound Nevus   \n",
       "2020    Dermal Nevus   F89  2089.0              0.0      Dermal Nevus   \n",
       "\n",
       "     kat.Diagnose                         file_path  \n",
       "2114            1  ../data/Mole_Data/SET_F/F186.BMP  \n",
       "136             1  ../data/Mole_Data/SET_D/D146.BMP  \n",
       "47              1   ../data/Mole_Data/SET_D/D49.BMP  \n",
       "1016            2   ../data/Mole_Data/SET_E/E39.BMP  \n",
       "1472            1  ../data/Mole_Data/SET_E/E522.BMP  \n",
       "2702            1  ../data/Mole_Data/SET_F/F788.BMP  \n",
       "1226            1  ../data/Mole_Data/SET_E/E260.BMP  \n",
       "1254            2  ../data/Mole_Data/SET_E/E290.BMP  \n",
       "1301            1  ../data/Mole_Data/SET_E/E339.BMP  \n",
       "2020            1   ../data/Mole_Data/SET_F/F89.BMP  "
      ]
     },
     "execution_count": 19,
     "metadata": {},
     "output_type": "execute_result"
    }
   ],
   "source": [
    "df_global.sample(10)"
   ]
  },
  {
   "cell_type": "markdown",
   "metadata": {},
   "source": [
    "## Final data cleaning"
   ]
  },
  {
   "cell_type": "code",
   "execution_count": 20,
   "metadata": {
    "ExecuteTime": {
     "end_time": "2021-03-22T09:23:17.757228Z",
     "start_time": "2021-03-22T09:23:17.701599Z"
    }
   },
   "outputs": [
    {
     "data": {
      "text/html": [
       "<div>\n",
       "<style scoped>\n",
       "    .dataframe tbody tr th:only-of-type {\n",
       "        vertical-align: middle;\n",
       "    }\n",
       "\n",
       "    .dataframe tbody tr th {\n",
       "        vertical-align: top;\n",
       "    }\n",
       "\n",
       "    .dataframe thead th {\n",
       "        text-align: right;\n",
       "    }\n",
       "</style>\n",
       "<table border=\"1\" class=\"dataframe\">\n",
       "  <thead>\n",
       "    <tr style=\"text-align: right;\">\n",
       "      <th></th>\n",
       "      <th>id</th>\n",
       "      <th>file_path</th>\n",
       "      <th>kat.Diagnose</th>\n",
       "      <th>maligne</th>\n",
       "    </tr>\n",
       "  </thead>\n",
       "  <tbody>\n",
       "    <tr>\n",
       "      <th>1304</th>\n",
       "      <td>E343</td>\n",
       "      <td>../data/Mole_Data/SET_E/E343.BMP</td>\n",
       "      <td>1</td>\n",
       "      <td>False</td>\n",
       "    </tr>\n",
       "    <tr>\n",
       "      <th>1004</th>\n",
       "      <td>E26</td>\n",
       "      <td>../data/Mole_Data/SET_E/E26.BMP</td>\n",
       "      <td>1</td>\n",
       "      <td>False</td>\n",
       "    </tr>\n",
       "    <tr>\n",
       "      <th>917</th>\n",
       "      <td>D938</td>\n",
       "      <td>../data/Mole_Data/SET_D/D938.BMP</td>\n",
       "      <td>1</td>\n",
       "      <td>False</td>\n",
       "    </tr>\n",
       "    <tr>\n",
       "      <th>1981</th>\n",
       "      <td>F49</td>\n",
       "      <td>../data/Mole_Data/SET_F/F49.BMP</td>\n",
       "      <td>1</td>\n",
       "      <td>False</td>\n",
       "    </tr>\n",
       "    <tr>\n",
       "      <th>1380</th>\n",
       "      <td>E428</td>\n",
       "      <td>../data/Mole_Data/SET_E/E428.BMP</td>\n",
       "      <td>1</td>\n",
       "      <td>False</td>\n",
       "    </tr>\n",
       "    <tr>\n",
       "      <th>1571</th>\n",
       "      <td>E622</td>\n",
       "      <td>../data/Mole_Data/SET_E/E622.BMP</td>\n",
       "      <td>3</td>\n",
       "      <td>True</td>\n",
       "    </tr>\n",
       "    <tr>\n",
       "      <th>1837</th>\n",
       "      <td>E901</td>\n",
       "      <td>../data/Mole_Data/SET_E/E901.BMP</td>\n",
       "      <td>1</td>\n",
       "      <td>False</td>\n",
       "    </tr>\n",
       "    <tr>\n",
       "      <th>1763</th>\n",
       "      <td>E821</td>\n",
       "      <td>../data/Mole_Data/SET_E/E821.BMP</td>\n",
       "      <td>1</td>\n",
       "      <td>False</td>\n",
       "    </tr>\n",
       "    <tr>\n",
       "      <th>264</th>\n",
       "      <td>D280</td>\n",
       "      <td>../data/Mole_Data/SET_D/D280.BMP</td>\n",
       "      <td>1</td>\n",
       "      <td>False</td>\n",
       "    </tr>\n",
       "    <tr>\n",
       "      <th>2457</th>\n",
       "      <td>F531</td>\n",
       "      <td>../data/Mole_Data/SET_F/F531.BMP</td>\n",
       "      <td>1</td>\n",
       "      <td>False</td>\n",
       "    </tr>\n",
       "    <tr>\n",
       "      <th>1602</th>\n",
       "      <td>E654</td>\n",
       "      <td>../data/Mole_Data/SET_E/E654.BMP</td>\n",
       "      <td>1</td>\n",
       "      <td>False</td>\n",
       "    </tr>\n",
       "    <tr>\n",
       "      <th>2689</th>\n",
       "      <td>F774</td>\n",
       "      <td>../data/Mole_Data/SET_F/F774.BMP</td>\n",
       "      <td>1</td>\n",
       "      <td>False</td>\n",
       "    </tr>\n",
       "    <tr>\n",
       "      <th>1594</th>\n",
       "      <td>E645</td>\n",
       "      <td>../data/Mole_Data/SET_E/E645.BMP</td>\n",
       "      <td>1</td>\n",
       "      <td>False</td>\n",
       "    </tr>\n",
       "    <tr>\n",
       "      <th>2039</th>\n",
       "      <td>F109</td>\n",
       "      <td>../data/Mole_Data/SET_F/F109.BMP</td>\n",
       "      <td>1</td>\n",
       "      <td>False</td>\n",
       "    </tr>\n",
       "    <tr>\n",
       "      <th>479</th>\n",
       "      <td>D498</td>\n",
       "      <td>../data/Mole_Data/SET_D/D498.BMP</td>\n",
       "      <td>1</td>\n",
       "      <td>False</td>\n",
       "    </tr>\n",
       "    <tr>\n",
       "      <th>2009</th>\n",
       "      <td>F78</td>\n",
       "      <td>../data/Mole_Data/SET_F/F78.BMP</td>\n",
       "      <td>1</td>\n",
       "      <td>False</td>\n",
       "    </tr>\n",
       "    <tr>\n",
       "      <th>385</th>\n",
       "      <td>D404</td>\n",
       "      <td>../data/Mole_Data/SET_D/D404.BMP</td>\n",
       "      <td>1</td>\n",
       "      <td>False</td>\n",
       "    </tr>\n",
       "    <tr>\n",
       "      <th>1559</th>\n",
       "      <td>E610</td>\n",
       "      <td>../data/Mole_Data/SET_E/E610.BMP</td>\n",
       "      <td>1</td>\n",
       "      <td>False</td>\n",
       "    </tr>\n",
       "    <tr>\n",
       "      <th>554</th>\n",
       "      <td>D573</td>\n",
       "      <td>../data/Mole_Data/SET_D/D573.BMP</td>\n",
       "      <td>1</td>\n",
       "      <td>False</td>\n",
       "    </tr>\n",
       "    <tr>\n",
       "      <th>1738</th>\n",
       "      <td>E794</td>\n",
       "      <td>../data/Mole_Data/SET_E/E794.BMP</td>\n",
       "      <td>1</td>\n",
       "      <td>False</td>\n",
       "    </tr>\n",
       "    <tr>\n",
       "      <th>2252</th>\n",
       "      <td>F324</td>\n",
       "      <td>../data/Mole_Data/SET_F/F324.BMP</td>\n",
       "      <td>1</td>\n",
       "      <td>False</td>\n",
       "    </tr>\n",
       "    <tr>\n",
       "      <th>1727</th>\n",
       "      <td>E783</td>\n",
       "      <td>../data/Mole_Data/SET_E/E783.BMP</td>\n",
       "      <td>1</td>\n",
       "      <td>False</td>\n",
       "    </tr>\n",
       "    <tr>\n",
       "      <th>978</th>\n",
       "      <td>D999</td>\n",
       "      <td>../data/Mole_Data/SET_D/D999.BMP</td>\n",
       "      <td>1</td>\n",
       "      <td>False</td>\n",
       "    </tr>\n",
       "    <tr>\n",
       "      <th>2117</th>\n",
       "      <td>F189</td>\n",
       "      <td>../data/Mole_Data/SET_F/F189.BMP</td>\n",
       "      <td>1</td>\n",
       "      <td>False</td>\n",
       "    </tr>\n",
       "    <tr>\n",
       "      <th>905</th>\n",
       "      <td>D926</td>\n",
       "      <td>../data/Mole_Data/SET_D/D926.BMP</td>\n",
       "      <td>1</td>\n",
       "      <td>False</td>\n",
       "    </tr>\n",
       "  </tbody>\n",
       "</table>\n",
       "</div>"
      ],
      "text/plain": [
       "        id                         file_path kat.Diagnose  maligne\n",
       "1304  E343  ../data/Mole_Data/SET_E/E343.BMP            1    False\n",
       "1004   E26   ../data/Mole_Data/SET_E/E26.BMP            1    False\n",
       "917   D938  ../data/Mole_Data/SET_D/D938.BMP            1    False\n",
       "1981   F49   ../data/Mole_Data/SET_F/F49.BMP            1    False\n",
       "1380  E428  ../data/Mole_Data/SET_E/E428.BMP            1    False\n",
       "1571  E622  ../data/Mole_Data/SET_E/E622.BMP            3     True\n",
       "1837  E901  ../data/Mole_Data/SET_E/E901.BMP            1    False\n",
       "1763  E821  ../data/Mole_Data/SET_E/E821.BMP            1    False\n",
       "264   D280  ../data/Mole_Data/SET_D/D280.BMP            1    False\n",
       "2457  F531  ../data/Mole_Data/SET_F/F531.BMP            1    False\n",
       "1602  E654  ../data/Mole_Data/SET_E/E654.BMP            1    False\n",
       "2689  F774  ../data/Mole_Data/SET_F/F774.BMP            1    False\n",
       "1594  E645  ../data/Mole_Data/SET_E/E645.BMP            1    False\n",
       "2039  F109  ../data/Mole_Data/SET_F/F109.BMP            1    False\n",
       "479   D498  ../data/Mole_Data/SET_D/D498.BMP            1    False\n",
       "2009   F78   ../data/Mole_Data/SET_F/F78.BMP            1    False\n",
       "385   D404  ../data/Mole_Data/SET_D/D404.BMP            1    False\n",
       "1559  E610  ../data/Mole_Data/SET_E/E610.BMP            1    False\n",
       "554   D573  ../data/Mole_Data/SET_D/D573.BMP            1    False\n",
       "1738  E794  ../data/Mole_Data/SET_E/E794.BMP            1    False\n",
       "2252  F324  ../data/Mole_Data/SET_F/F324.BMP            1    False\n",
       "1727  E783  ../data/Mole_Data/SET_E/E783.BMP            1    False\n",
       "978   D999  ../data/Mole_Data/SET_D/D999.BMP            1    False\n",
       "2117  F189  ../data/Mole_Data/SET_F/F189.BMP            1    False\n",
       "905   D926  ../data/Mole_Data/SET_D/D926.BMP            1    False"
      ]
     },
     "execution_count": 20,
     "metadata": {},
     "output_type": "execute_result"
    }
   ],
   "source": [
    "df_global = df_global[[\"id\", \"file_path\", \"kat.Diagnose\"]]\n",
    "df_global[\"maligne\"] = df_global[\"kat.Diagnose\"]>1\n",
    "df_global.sample(25)"
   ]
  },
  {
   "cell_type": "code",
   "execution_count": 21,
   "metadata": {
    "ExecuteTime": {
     "end_time": "2021-03-22T09:23:17.796603Z",
     "start_time": "2021-03-22T09:23:17.770979Z"
    }
   },
   "outputs": [
    {
     "data": {
      "text/plain": [
       "1    2271\n",
       "2     579\n",
       "3      50\n",
       "Name: kat.Diagnose, dtype: int64"
      ]
     },
     "execution_count": 21,
     "metadata": {},
     "output_type": "execute_result"
    }
   ],
   "source": [
    "df_global[\"kat.Diagnose\"].value_counts()"
   ]
  },
  {
   "cell_type": "markdown",
   "metadata": {},
   "source": [
    "## Save the final dataset"
   ]
  },
  {
   "cell_type": "code",
   "execution_count": 22,
   "metadata": {
    "ExecuteTime": {
     "end_time": "2021-03-22T09:23:17.828360Z",
     "start_time": "2021-03-22T09:23:17.805587Z"
    }
   },
   "outputs": [],
   "source": [
    "df_global.to_csv(\"../data/preprocessed/df_mole_merged.csv\", index=False)"
   ]
  },
  {
   "cell_type": "code",
   "execution_count": 23,
   "metadata": {
    "ExecuteTime": {
     "end_time": "2021-03-22T09:23:18.660136Z",
     "start_time": "2021-03-22T09:23:17.831233Z"
    }
   },
   "outputs": [
    {
     "data": {
      "text/plain": [
       "<AxesSubplot:>"
      ]
     },
     "execution_count": 23,
     "metadata": {},
     "output_type": "execute_result"
    },
    {
     "data": {
      "image/png": "[encoded data removed]",
      "text/plain": [
       "<Figure size 432x288 with 1 Axes>"
      ]
     },
     "metadata": {
      "needs_background": "light"
     },
     "output_type": "display_data"
    }
   ],
   "source": [
    "pd.value_counts(df_global[\"kat.Diagnose\"]).plot.bar()"
   ]
  }
 ],
 "metadata": {
  "kernelspec": {
   "display_name": "base",
   "language": "python",
   "name": "base"
  },
  "language_info": {
   "codemirror_mode": {
    "name": "ipython",
    "version": 3
   },
   "file_extension": ".py",
   "mimetype": "text/x-python",
   "name": "python",
   "nbconvert_exporter": "python",
   "pygments_lexer": "ipython3",
   "version": "3.8.5"
  }
 },
 "nbformat": 4,
 "nbformat_minor": 4
}
